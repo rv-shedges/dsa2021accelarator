{
  "nbformat": 4,
  "nbformat_minor": 0,
  "metadata": {
    "kernelspec": {
      "display_name": "Python 3",
      "language": "python",
      "name": "python3"
    },
    "language_info": {
      "codemirror_mode": {
        "name": "ipython",
        "version": 3
      },
      "file_extension": ".py",
      "mimetype": "text/x-python",
      "name": "python",
      "nbconvert_exporter": "python",
      "pygments_lexer": "ipython3",
      "version": "3.7.3"
    },
    "toc": {
      "base_numbering": 1,
      "nav_menu": {},
      "number_sections": true,
      "sideBar": true,
      "skip_h1_title": false,
      "title_cell": "Table of Contents",
      "title_sidebar": "Contents",
      "toc_cell": false,
      "toc_position": {},
      "toc_section_display": true,
      "toc_window_display": false
    },
    "colab": {
      "name": "Week2_Python_Homework.ipynb",
      "provenance": []
    }
  },
  "cells": [
    {
      "cell_type": "markdown",
      "metadata": {
        "id": "OK3H5NwnGJxI"
      },
      "source": [
        "## Week2 Python Programming"
      ]
    },
    {
      "cell_type": "markdown",
      "metadata": {
        "id": "t70TlYynGJxW"
      },
      "source": [
        "In week2, we've covered:\n",
        "* Creating **variables** \n",
        "* Different **data types**:\n",
        "    * int\n",
        "    * float\n",
        "    * boolean\n",
        "    * string\n",
        "* Import **standard library**:\n",
        "    * math\n",
        "    \n",
        "    \n",
        "* **Data structures**:\n",
        "    * List\n",
        "    * Tuples\n",
        "    * Dictionary\n",
        "* **Function**:\n",
        "    * Define function without parameter\n",
        "        * **def** func():\n",
        "    * Define function with parameter\n",
        "        * **def** func(param):\n",
        "* **Control flow**:\n",
        "    * if, elif, else\n",
        "    * for\n",
        "    * while\n",
        "* **DataFrame**:\n",
        "    * Exploring a dataset"
      ]
    },
    {
      "cell_type": "markdown",
      "metadata": {
        "id": "vDuEaMbmGJx4"
      },
      "source": [
        "The best way to consolidate the knowledge in your mind is by practicing.<br>Please complete the part marked with <span style=\"color:green\">**# TODO**</span>.\n",
        "\n",
        "[Google](https://google.com) and [Python Documentation](https://docs.python.org/3/contents.html) are your good friends if you have any python questions."
      ]
    },
    {
      "cell_type": "markdown",
      "metadata": {
        "id": "LyzIxi5tGJyL"
      },
      "source": [
        "## Variables and types"
      ]
    },
    {
      "cell_type": "markdown",
      "metadata": {
        "id": "kD-IGL8TGJyb"
      },
      "source": [
        "### Symbol names"
      ]
    },
    {
      "cell_type": "markdown",
      "metadata": {
        "id": "0Q-41cOcGJyg"
      },
      "source": [
        "Variable names in Python can contain alphanumerical characters `a-z`, `A-Z`, `0-9` and some special characters such as `_`. Normal variable names must start with a letter. \n",
        "\n",
        "By convention, variable names start with a lower-case letter, and Class names start with a capital letter. \n",
        "\n",
        "In addition, there are a number of Python keywords that cannot be used as variable names. These keywords are:\n",
        "\n",
        "    and, as, assert, break, class, continue, def, del, elif, else, except, \n",
        "    exec, finally, for, from, global, if, import, in, is, lambda, not, or,\n",
        "    pass, print, raise, return, try, while, with, yield"
      ]
    },
    {
      "cell_type": "markdown",
      "metadata": {
        "id": "YgK93ZCmGJyz"
      },
      "source": [
        "## Assignment"
      ]
    },
    {
      "cell_type": "markdown",
      "metadata": {
        "id": "RvPZPiPZGJzO"
      },
      "source": [
        "\n",
        "The assignment operator in Python is `=`. Python is a dynamically typed language, so we do not need to specify the type of a variable when we create one."
      ]
    },
    {
      "cell_type": "markdown",
      "metadata": {
        "id": "CoLlq8KgGJzk"
      },
      "source": [
        "Assign an `int` to a variable with name `x` and print its type."
      ]
    },
    {
      "cell_type": "code",
      "metadata": {
        "colab": {
          "base_uri": "https://localhost:8080/"
        },
        "id": "yQY9C7HuGJ0U",
        "outputId": "7640111f-c9b7-4859-9023-c351d6bc0b63"
      },
      "source": [
        "# TODO\n",
        "x = 1\n",
        "int(x) #assigning an integer type\n",
        "print(type(x))"
      ],
      "execution_count": 3,
      "outputs": [
        {
          "output_type": "stream",
          "text": [
            "<class 'int'>\n"
          ],
          "name": "stdout"
        }
      ]
    },
    {
      "cell_type": "markdown",
      "metadata": {
        "id": "1ME_UKnMGJ0b"
      },
      "source": [
        "Assign a new value with `string` type to the same variable `x` and print its type."
      ]
    },
    {
      "cell_type": "code",
      "metadata": {
        "colab": {
          "base_uri": "https://localhost:8080/"
        },
        "id": "cc6-wdiKGJ0d",
        "outputId": "0ce20587-fb3d-4a88-cb0f-c13f7d4163d0"
      },
      "source": [
        "# TODO\n",
        "x = 'Accelerator'\n",
        "print(type(x))\n",
        "\n"
      ],
      "execution_count": 4,
      "outputs": [
        {
          "output_type": "stream",
          "text": [
            "<class 'str'>\n"
          ],
          "name": "stdout"
        }
      ]
    },
    {
      "cell_type": "markdown",
      "metadata": {
        "id": "rfw8uCOsGJ0n"
      },
      "source": [
        "Print the value of a variable that has not been defined, see what error do you get:"
      ]
    },
    {
      "cell_type": "code",
      "metadata": {
        "colab": {
          "base_uri": "https://localhost:8080/",
          "height": 180
        },
        "id": "HO2RzYxdGJ0u",
        "outputId": "54c9fe77-af0a-40f8-86fa-8d81a05800d4"
      },
      "source": [
        "# TODO\n",
        "print(type(y))\n"
      ],
      "execution_count": 5,
      "outputs": [
        {
          "output_type": "error",
          "ename": "NameError",
          "evalue": "ignored",
          "traceback": [
            "\u001b[0;31m---------------------------------------------------------------------------\u001b[0m",
            "\u001b[0;31mNameError\u001b[0m                                 Traceback (most recent call last)",
            "\u001b[0;32m<ipython-input-5-862cfc66f59d>\u001b[0m in \u001b[0;36m<module>\u001b[0;34m()\u001b[0m\n\u001b[1;32m      1\u001b[0m \u001b[0;31m# TODO\u001b[0m\u001b[0;34m\u001b[0m\u001b[0;34m\u001b[0m\u001b[0;34m\u001b[0m\u001b[0m\n\u001b[0;32m----> 2\u001b[0;31m \u001b[0mprint\u001b[0m\u001b[0;34m(\u001b[0m\u001b[0mtype\u001b[0m\u001b[0;34m(\u001b[0m\u001b[0my\u001b[0m\u001b[0;34m)\u001b[0m\u001b[0;34m)\u001b[0m\u001b[0;34m\u001b[0m\u001b[0;34m\u001b[0m\u001b[0m\n\u001b[0m",
            "\u001b[0;31mNameError\u001b[0m: name 'y' is not defined"
          ]
        }
      ]
    },
    {
      "cell_type": "markdown",
      "metadata": {
        "id": "f8hT7dWRGJ0y"
      },
      "source": [
        "## Operators and comparisons"
      ]
    },
    {
      "cell_type": "markdown",
      "metadata": {
        "id": "z7D8Q1aPGJ01"
      },
      "source": [
        "Most operators and comparisons in Python work as one would expect:\n",
        "\n",
        "* Arithmetic operators `+`, `-`, `*`, `/`, `//` (integer division), '**' power"
      ]
    },
    {
      "cell_type": "markdown",
      "metadata": {
        "id": "6N-2K28-GJ01"
      },
      "source": [
        "Print the sum, difference, multiplication, and division between `1` and `2`."
      ]
    },
    {
      "cell_type": "code",
      "metadata": {
        "id": "1X80fzU5GJ02"
      },
      "source": [
        "# TODO  \n",
        "1+2 #Addition\n",
        "2-1 #Subtraction\n",
        "1*2 #Multiplication\n",
        "2/1 #Division\n",
        "\n"
      ],
      "execution_count": null,
      "outputs": []
    },
    {
      "cell_type": "markdown",
      "metadata": {
        "id": "n7lwUKmRGJ05"
      },
      "source": [
        "Carry out Integer division of two float numbers."
      ]
    },
    {
      "cell_type": "code",
      "metadata": {
        "colab": {
          "base_uri": "https://localhost:8080/"
        },
        "id": "tlnBuVFdGJ07",
        "outputId": "5cd5aa61-bb99-4af1-818d-ce1e1c356ef6"
      },
      "source": [
        "# TODO \n",
        "x=6\n",
        "y=2 \n",
        "float(x)\n",
        "float(y)\n",
        "x//y\n"
      ],
      "execution_count": 8,
      "outputs": [
        {
          "output_type": "execute_result",
          "data": {
            "text/plain": [
              "3"
            ]
          },
          "metadata": {
            "tags": []
          },
          "execution_count": 8
        }
      ]
    },
    {
      "cell_type": "markdown",
      "metadata": {
        "id": "SW-8v70jGJ08"
      },
      "source": [
        "What is the value of `2` Power `15`?"
      ]
    },
    {
      "cell_type": "code",
      "metadata": {
        "colab": {
          "base_uri": "https://localhost:8080/"
        },
        "id": "7QMjk5hnGJ1A",
        "outputId": "66cf42fe-c33c-4b4b-970a-a70cc931d642"
      },
      "source": [
        "# TODO\n",
        "2**15"
      ],
      "execution_count": 9,
      "outputs": [
        {
          "output_type": "execute_result",
          "data": {
            "text/plain": [
              "32768"
            ]
          },
          "metadata": {
            "tags": []
          },
          "execution_count": 9
        }
      ]
    },
    {
      "cell_type": "markdown",
      "metadata": {
        "id": "6I1kmbcqGJ1E"
      },
      "source": [
        "Are the types of `1+2` and `1.0+2` the same?"
      ]
    },
    {
      "cell_type": "code",
      "metadata": {
        "colab": {
          "base_uri": "https://localhost:8080/"
        },
        "id": "pJ2uy_CEGJ1G",
        "outputId": "802dc653-c394-4f85-ae1d-dbe380c146cf"
      },
      "source": [
        "# TODO\n",
        "1+2 == int(1.0)+2\n"
      ],
      "execution_count": 11,
      "outputs": [
        {
          "output_type": "execute_result",
          "data": {
            "text/plain": [
              "True"
            ]
          },
          "metadata": {
            "tags": []
          },
          "execution_count": 11
        }
      ]
    },
    {
      "cell_type": "markdown",
      "metadata": {
        "id": "hgLJanadGJ1G"
      },
      "source": [
        "* The boolean operators are spelled out as the words `and`, `not`, `or`.  "
      ]
    },
    {
      "cell_type": "markdown",
      "metadata": {
        "id": "m7EhUzpNGJ1G"
      },
      "source": [
        "* Comparison operators `>`, `<`, `>=` (greater or equal), `<=` (less or equal), `==` equality, `is` identical."
      ]
    },
    {
      "cell_type": "markdown",
      "metadata": {
        "id": "HbdIrx4bGJ1H"
      },
      "source": [
        "Compare two boolean `True` and `False`"
      ]
    },
    {
      "cell_type": "code",
      "metadata": {
        "colab": {
          "base_uri": "https://localhost:8080/"
        },
        "id": "0SIYZBLkGJ1K",
        "outputId": "f19eb1de-6729-485f-b78f-55cbddf10b20"
      },
      "source": [
        "# TODO\n",
        "True > False\n",
        "\n",
        "False < True \n"
      ],
      "execution_count": 21,
      "outputs": [
        {
          "output_type": "execute_result",
          "data": {
            "text/plain": [
              "True"
            ]
          },
          "metadata": {
            "tags": []
          },
          "execution_count": 21
        }
      ]
    },
    {
      "cell_type": "markdown",
      "metadata": {
        "id": "A27uJCPZGJ1M"
      },
      "source": [
        "Use `False` to get `True`"
      ]
    },
    {
      "cell_type": "code",
      "metadata": {
        "colab": {
          "base_uri": "https://localhost:8080/"
        },
        "id": "4yBZXSY_GJ1O",
        "outputId": "fb0ad116-8963-40d5-916e-3fb19d1862d7"
      },
      "source": [
        "# TODO\n",
        "not False\n"
      ],
      "execution_count": 23,
      "outputs": [
        {
          "output_type": "execute_result",
          "data": {
            "text/plain": [
              "True"
            ]
          },
          "metadata": {
            "tags": []
          },
          "execution_count": 23
        }
      ]
    },
    {
      "cell_type": "markdown",
      "metadata": {
        "id": "iXD-D5i8GJ1Q"
      },
      "source": [
        "Include both `False` and `True` in your code to get `True`"
      ]
    },
    {
      "cell_type": "code",
      "metadata": {
        "colab": {
          "base_uri": "https://localhost:8080/"
        },
        "id": "4tt7zsKQGJ1Q",
        "outputId": "fbb5c9b4-a88b-43a3-d89d-5b735da8d4e5"
      },
      "source": [
        "# TODO\n",
        "False or True\n"
      ],
      "execution_count": 24,
      "outputs": [
        {
          "output_type": "execute_result",
          "data": {
            "text/plain": [
              "True"
            ]
          },
          "metadata": {
            "tags": []
          },
          "execution_count": 24
        }
      ]
    },
    {
      "cell_type": "markdown",
      "metadata": {
        "id": "Ff-lJjWsGJ1U"
      },
      "source": [
        "Use two different ways: `==` and `is` to check if `l1` and `l2` is identical."
      ]
    },
    {
      "cell_type": "code",
      "metadata": {
        "colab": {
          "base_uri": "https://localhost:8080/"
        },
        "id": "rGTLasCfGJ1X",
        "outputId": "d21874dc-58f0-463c-c890-35fff0be14d4"
      },
      "source": [
        "# TODO\n",
        "l1 = [1, 2]\n",
        "l2 = [1, 2.0]\n",
        "\n",
        "l1 == l2 \n"
      ],
      "execution_count": 26,
      "outputs": [
        {
          "output_type": "execute_result",
          "data": {
            "text/plain": [
              "True"
            ]
          },
          "metadata": {
            "tags": []
          },
          "execution_count": 26
        }
      ]
    },
    {
      "cell_type": "code",
      "metadata": {
        "colab": {
          "base_uri": "https://localhost:8080/"
        },
        "id": "NOG-Xf5vJPdh",
        "outputId": "d0cfb162-aa88-4014-d75f-7f10da0b7f1c"
      },
      "source": [
        "# TODO\n",
        "l1 = [1, 2]\n",
        "l2 = [1, 2.0]\n",
        "\n",
        "l1 is l2\n"
      ],
      "execution_count": 28,
      "outputs": [
        {
          "output_type": "execute_result",
          "data": {
            "text/plain": [
              "False"
            ]
          },
          "metadata": {
            "tags": []
          },
          "execution_count": 28
        }
      ]
    },
    {
      "cell_type": "markdown",
      "metadata": {
        "id": "RTIvQNtbGJ1X"
      },
      "source": [
        "## Strings"
      ]
    },
    {
      "cell_type": "markdown",
      "metadata": {
        "id": "L-ZZRprLGJ1b"
      },
      "source": [
        "Strings are the variables type that is used for storing text messages."
      ]
    },
    {
      "cell_type": "markdown",
      "metadata": {
        "id": "NJlmumsPGJ1b"
      },
      "source": [
        "Create three string variables, and use one `print` to display all three variables."
      ]
    },
    {
      "cell_type": "code",
      "metadata": {
        "colab": {
          "base_uri": "https://localhost:8080/"
        },
        "id": "G7fgFEmiGJ1b",
        "outputId": "397c1f51-ed57-4bc4-8097-25ec9b0aceb8"
      },
      "source": [
        "# TODO\n",
        "'hello' \n",
        "'data'\n",
        "'accelerator'\n",
        "print('hello', 'data', 'accelerator')"
      ],
      "execution_count": 49,
      "outputs": [
        {
          "output_type": "stream",
          "text": [
            "hello data accelerator\n"
          ],
          "name": "stdout"
        }
      ]
    },
    {
      "cell_type": "markdown",
      "metadata": {
        "id": "z8tyDOjcGJ1f"
      },
      "source": [
        "Check the length of \"Hello world!\"."
      ]
    },
    {
      "cell_type": "code",
      "metadata": {
        "colab": {
          "base_uri": "https://localhost:8080/"
        },
        "id": "cP0mbRgTGJ1g",
        "outputId": "34c45794-f54b-4ac7-86c9-75e4f21e3670"
      },
      "source": [
        "# TODO\n",
        "len('Hello world!')"
      ],
      "execution_count": 50,
      "outputs": [
        {
          "output_type": "execute_result",
          "data": {
            "text/plain": [
              "12"
            ]
          },
          "metadata": {
            "tags": []
          },
          "execution_count": 50
        }
      ]
    },
    {
      "cell_type": "markdown",
      "metadata": {
        "id": "0sQpaJQXGJ1h"
      },
      "source": [
        "Get the index `0`character in a string."
      ]
    },
    {
      "cell_type": "code",
      "metadata": {
        "colab": {
          "base_uri": "https://localhost:8080/",
          "height": 35
        },
        "id": "5jHjouDNGJ1j",
        "outputId": "ca0490c0-b844-456c-daee-332e735d7612"
      },
      "source": [
        "# TODO\n",
        "'Hello world!'[0]\n"
      ],
      "execution_count": 51,
      "outputs": [
        {
          "output_type": "execute_result",
          "data": {
            "application/vnd.google.colaboratory.intrinsic+json": {
              "type": "string"
            },
            "text/plain": [
              "'H'"
            ]
          },
          "metadata": {
            "tags": []
          },
          "execution_count": 51
        }
      ]
    },
    {
      "cell_type": "markdown",
      "metadata": {
        "id": "pel83OsoGJ1j"
      },
      "source": [
        "Get the first 3 characters in a string."
      ]
    },
    {
      "cell_type": "code",
      "metadata": {
        "colab": {
          "base_uri": "https://localhost:8080/",
          "height": 35
        },
        "id": "OhPRhZNcGJ1j",
        "outputId": "07f94280-6beb-41a2-a193-c24f296afea6"
      },
      "source": [
        "# TODO\n",
        "'Hello world!'[0:3]\n"
      ],
      "execution_count": 52,
      "outputs": [
        {
          "output_type": "execute_result",
          "data": {
            "application/vnd.google.colaboratory.intrinsic+json": {
              "type": "string"
            },
            "text/plain": [
              "'Hel'"
            ]
          },
          "metadata": {
            "tags": []
          },
          "execution_count": 52
        }
      ]
    },
    {
      "cell_type": "markdown",
      "metadata": {
        "id": "xuIMfqhrGJ1j"
      },
      "source": [
        "Use a start index and a stop index to get the fifth character in a string."
      ]
    },
    {
      "cell_type": "code",
      "metadata": {
        "id": "BRIL3cIRGJ1j"
      },
      "source": [
        "# TODO\n",
        "s = \"Red Ventures\"\n"
      ],
      "execution_count": 43,
      "outputs": []
    },
    {
      "cell_type": "markdown",
      "metadata": {
        "id": "ywgIWns7GJ1j"
      },
      "source": [
        "Get the last character in a string."
      ]
    },
    {
      "cell_type": "code",
      "metadata": {
        "colab": {
          "base_uri": "https://localhost:8080/",
          "height": 35
        },
        "id": "GTbTrtLaGJ1j",
        "outputId": "a046ae6e-56b4-468a-ed2e-0f3e08ac6730"
      },
      "source": [
        "# TODO\n",
        "s = \"Charlotte\"\n",
        "s[-1]\n"
      ],
      "execution_count": 53,
      "outputs": [
        {
          "output_type": "execute_result",
          "data": {
            "application/vnd.google.colaboratory.intrinsic+json": {
              "type": "string"
            },
            "text/plain": [
              "'e'"
            ]
          },
          "metadata": {
            "tags": []
          },
          "execution_count": 53
        }
      ]
    },
    {
      "cell_type": "markdown",
      "metadata": {
        "id": "xdEXeimGGJ1k"
      },
      "source": [
        "#### Escape characters\n",
        "In Python strings, the backslash \"\\\\\" is a special character, also called the **\"escape\"** character. It is used in representing certain whitespace characters: \"\\t\" is a tab, \"\\n\" is a newline, and \"\\r\" is a carriage return. Conversely, prefixing a special character with \"\\\" turns it into an ordinary character."
      ]
    },
    {
      "cell_type": "markdown",
      "metadata": {
        "id": "iwhM1QZOGJ1l"
      },
      "source": [
        "Print out the following strings:\n",
        "<pre>\n",
        "'    Everything is written in pencil.'\n",
        "\n",
        "'Everything is written\n",
        " in pencil.'\n",
        " \n",
        "'Everything \\ is written \\ in pencil.'\n",
        "\n",
        "'Red Ventures brands, just list a few:\n",
        "   * Bankrate\n",
        "   * Reviews.com\n",
        "   * the Points Guy\n",
        "   * creditcards.com'\n",
        "</pre>"
      ]
    },
    {
      "cell_type": "code",
      "metadata": {
        "colab": {
          "base_uri": "https://localhost:8080/"
        },
        "id": "CrD8B6m3GJ1l",
        "outputId": "ccc4e79e-5454-4a65-9a34-0e8920d0be58"
      },
      "source": [
        "# TODO\n",
        "print(' \\t Everything is written in pencil.')\n",
        "\n",
        "print('Everything is written \\n in pencil.')\n",
        " \n",
        "print('Everything \\ is written \\ in pencil.')\n",
        "\n",
        "print('Red Ventures brands, just list a few: \\n \\t * Bankrate \\n \\t * Reviews.com \\n \\t * the Points Guy \\n \\t * creditcards.com')"
      ],
      "execution_count": 24,
      "outputs": [
        {
          "output_type": "stream",
          "text": [
            " \t Everything is written in pencil.\n",
            "Everything is written \n",
            " in pencil.\n",
            "Everything \\ is written \\ in pencil.\n",
            "Red Ventures brands, just list a few: \n",
            " \t * Bankrate \n",
            " \t * Reviews.com \n",
            " \t * the Points Guy \n",
            " \t * creditcards.com\n"
          ],
          "name": "stdout"
        }
      ]
    },
    {
      "cell_type": "markdown",
      "metadata": {
        "id": "IqOUrpzQGJ1l"
      },
      "source": [
        "#### String methods\n",
        "Here are some of the most common string methods. A method is like a function, but it runs \"on\" an object. If the variable s is a string, then the code s.lower() runs the lower() method on that string object and returns the result (this idea of a method running on an object is one of the basic ideas that make up Object Oriented Programming, OOP). Here are some of the most common string methods:\n",
        "\n",
        "lower(), upper(), strip(), isdigit(), startswith(), endswith(), find(), replace(), split(), join()\n",
        "\n",
        "[Documentation](https://docs.python.org/3/library/stdtypes.html#string-methods)"
      ]
    },
    {
      "cell_type": "markdown",
      "metadata": {
        "id": "aoGZrqQ8GJ1l"
      },
      "source": [
        "Convert all letters to lower cases."
      ]
    },
    {
      "cell_type": "code",
      "metadata": {
        "colab": {
          "base_uri": "https://localhost:8080/"
        },
        "id": "kuY61bj0GJ1m",
        "outputId": "fc86b3be-ae28-4a4b-de31-263c5b772d4b"
      },
      "source": [
        "# TODO\n",
        "s = 'RED FISH'\n",
        "print(s.lower())"
      ],
      "execution_count": 66,
      "outputs": [
        {
          "output_type": "stream",
          "text": [
            "red fish\n"
          ],
          "name": "stdout"
        }
      ]
    },
    {
      "cell_type": "markdown",
      "metadata": {
        "id": "S2ZKV5XvGJ1m"
      },
      "source": [
        "Check if string starts with `r`"
      ]
    },
    {
      "cell_type": "code",
      "metadata": {
        "colab": {
          "base_uri": "https://localhost:8080/"
        },
        "id": "437YC-9_i1Oy",
        "outputId": "8266d023-6085-48b7-e9d1-5f59d85f1cdb"
      },
      "source": [
        "# TODO\n",
        "s = 'Run Up Escalators'\n",
        "s.startswith('r')"
      ],
      "execution_count": 75,
      "outputs": [
        {
          "output_type": "execute_result",
          "data": {
            "text/plain": [
              "False"
            ]
          },
          "metadata": {
            "tags": []
          },
          "execution_count": 75
        }
      ]
    },
    {
      "cell_type": "markdown",
      "metadata": {
        "id": "LpLIxDcSGJ1n"
      },
      "source": [
        "Find the index of the single quote."
      ]
    },
    {
      "cell_type": "code",
      "metadata": {
        "colab": {
          "base_uri": "https://localhost:8080/"
        },
        "id": "N5NIraHoGJ1n",
        "outputId": "936c0f3e-3349-45dd-dea7-05044bc43bf2"
      },
      "source": [
        "# TODO\n",
        "s = \"You don't have to lie.\"\n",
        "s.find(\"'\")\n"
      ],
      "execution_count": 71,
      "outputs": [
        {
          "output_type": "execute_result",
          "data": {
            "text/plain": [
              "7"
            ]
          },
          "metadata": {
            "tags": []
          },
          "execution_count": 71
        }
      ]
    },
    {
      "cell_type": "markdown",
      "metadata": {
        "id": "g2QRQZMLGJ1n"
      },
      "source": [
        "## Type casting\n",
        "The process of converting the value of one data type to another is called type casting or type conversion."
      ]
    },
    {
      "cell_type": "markdown",
      "metadata": {
        "id": "WG7ONZ5ZGJ1n"
      },
      "source": [
        "Cast variable `z` to `int` and print its type."
      ]
    },
    {
      "cell_type": "code",
      "metadata": {
        "colab": {
          "base_uri": "https://localhost:8080/"
        },
        "id": "l1bKdE6lGJ1o",
        "outputId": "415dff82-d018-45ad-f669-bebfd04d7573"
      },
      "source": [
        "# TODO\n",
        "z = 1 \n",
        "int(z)\n",
        "print(type(z))\n"
      ],
      "execution_count": 72,
      "outputs": [
        {
          "output_type": "stream",
          "text": [
            "<class 'int'>\n"
          ],
          "name": "stdout"
        }
      ]
    },
    {
      "cell_type": "markdown",
      "metadata": {
        "id": "PTnX1RV6GJ1o"
      },
      "source": [
        "Are the types of 1 + 2 and 1.0 + 2 the same?"
      ]
    },
    {
      "cell_type": "code",
      "metadata": {
        "colab": {
          "base_uri": "https://localhost:8080/"
        },
        "id": "KN48Vs4fGJ1o",
        "outputId": "70803929-ddb0-4559-ff98-7bc219d207bf"
      },
      "source": [
        "# TODO\n",
        "1+2 == 1.0+2"
      ],
      "execution_count": 73,
      "outputs": [
        {
          "output_type": "execute_result",
          "data": {
            "text/plain": [
              "True"
            ]
          },
          "metadata": {
            "tags": []
          },
          "execution_count": 73
        }
      ]
    },
    {
      "cell_type": "markdown",
      "metadata": {
        "id": "4KaB8cHNGJ1q"
      },
      "source": [
        "Add num_int and num_str, you should provide two outputs. One is a string and the other is an int."
      ]
    },
    {
      "cell_type": "code",
      "metadata": {
        "colab": {
          "base_uri": "https://localhost:8080/"
        },
        "id": "4ZC32AKVGJ1q",
        "outputId": "fc39abdc-c1cb-434d-cddf-838d52e9ba86"
      },
      "source": [
        "# TODO\n",
        "num_int = 123\n",
        "num_str = \"456\"\n",
        "\n",
        "num_int + int(num_str)\n"
      ],
      "execution_count": 78,
      "outputs": [
        {
          "output_type": "execute_result",
          "data": {
            "text/plain": [
              "579"
            ]
          },
          "metadata": {
            "tags": []
          },
          "execution_count": 78
        }
      ]
    },
    {
      "cell_type": "code",
      "metadata": {
        "colab": {
          "base_uri": "https://localhost:8080/",
          "height": 35
        },
        "id": "5gyWvwfHlM42",
        "outputId": "853995af-a895-404c-dc23-640fbba7a1bf"
      },
      "source": [
        "# TODO\n",
        "num_int = 123\n",
        "num_str = \"456\"\n",
        "\n",
        "str(num_int) + num_str"
      ],
      "execution_count": 79,
      "outputs": [
        {
          "output_type": "execute_result",
          "data": {
            "application/vnd.google.colaboratory.intrinsic+json": {
              "type": "string"
            },
            "text/plain": [
              "'123456'"
            ]
          },
          "metadata": {
            "tags": []
          },
          "execution_count": 79
        }
      ]
    },
    {
      "cell_type": "markdown",
      "metadata": {
        "id": "-aV6hys0GJ1q"
      },
      "source": [
        "What happens if you cast `-1` to a boolean?"
      ]
    },
    {
      "cell_type": "code",
      "metadata": {
        "colab": {
          "base_uri": "https://localhost:8080/"
        },
        "id": "PMxWuDiSGJ1q",
        "outputId": "35125b17-5d63-466d-8bc5-efa8cc55b32f"
      },
      "source": [
        "# TODO\n",
        "bool(-1)\n"
      ],
      "execution_count": 80,
      "outputs": [
        {
          "output_type": "execute_result",
          "data": {
            "text/plain": [
              "True"
            ]
          },
          "metadata": {
            "tags": []
          },
          "execution_count": 80
        }
      ]
    },
    {
      "cell_type": "markdown",
      "metadata": {
        "id": "HFaGxer8GJ1q"
      },
      "source": [
        "## Standard Library\n",
        "Python’s standard library is very extensive, offering a wide range of facilities. The library contains built-in modules (written in C) that provide access to system functionality as well as modules written in Python that provide standardized solutions for many problems that occur in everyday programming. \n",
        "\n",
        "For example, the `math` module gives access to the underlying C library functions for floating point math.\n",
        "\n",
        "[Documentation](https://docs.python.org/3/library/math.html)\n",
        "<br>\n",
        "<br>"
      ]
    },
    {
      "cell_type": "markdown",
      "metadata": {
        "id": "m44prsykGJ1q"
      },
      "source": [
        "Import math module and calculate $e^4$."
      ]
    },
    {
      "cell_type": "code",
      "metadata": {
        "colab": {
          "base_uri": "https://localhost:8080/"
        },
        "id": "ZVoPlLWmGJ1q",
        "outputId": "14d68e66-6a28-4ae6-b0ca-e89e968446e5"
      },
      "source": [
        "# TODO\n",
        "import math \n",
        "\n",
        "math.exp(4)"
      ],
      "execution_count": 82,
      "outputs": [
        {
          "output_type": "execute_result",
          "data": {
            "text/plain": [
              "54.598150033144236"
            ]
          },
          "metadata": {
            "tags": []
          },
          "execution_count": 82
        }
      ]
    },
    {
      "cell_type": "markdown",
      "metadata": {
        "id": "yUD9C0vIGJ1s"
      },
      "source": [
        "Calculate the value of $log_2(8)$."
      ]
    },
    {
      "cell_type": "code",
      "metadata": {
        "colab": {
          "base_uri": "https://localhost:8080/"
        },
        "id": "52NGmJm-GJ1t",
        "outputId": "e4867972-3a29-42d7-d2e4-6807fe6e4687"
      },
      "source": [
        "# TODO\n",
        "math.log(2,8)\n"
      ],
      "execution_count": 83,
      "outputs": [
        {
          "output_type": "execute_result",
          "data": {
            "text/plain": [
              "0.33333333333333337"
            ]
          },
          "metadata": {
            "tags": []
          },
          "execution_count": 83
        }
      ]
    },
    {
      "cell_type": "markdown",
      "metadata": {
        "id": "JmgAQD-uGJ1t"
      },
      "source": [
        "Calculate the value of $\\sqrt{100}$."
      ]
    },
    {
      "cell_type": "code",
      "metadata": {
        "colab": {
          "base_uri": "https://localhost:8080/"
        },
        "id": "XllEVUbgGJ1t",
        "outputId": "f494b16f-0eb3-4c84-bfdf-eb42498630da"
      },
      "source": [
        "# TODO\n",
        "math.sqrt(100)"
      ],
      "execution_count": 84,
      "outputs": [
        {
          "output_type": "execute_result",
          "data": {
            "text/plain": [
              "10.0"
            ]
          },
          "metadata": {
            "tags": []
          },
          "execution_count": 84
        }
      ]
    },
    {
      "cell_type": "markdown",
      "metadata": {
        "id": "dc-cfhTRGJ1t"
      },
      "source": [
        "## List\n",
        "[List Documentation](https://www.w3schools.com/python/python_lists.asp)  "
      ]
    },
    {
      "cell_type": "markdown",
      "metadata": {
        "id": "FFw2KdWvGJ1t"
      },
      "source": [
        "### 1. Fill the ___ parts of code below"
      ]
    },
    {
      "cell_type": "code",
      "metadata": {
        "id": "5dK42cR5GJ1t"
      },
      "source": [
        "# TODO\n",
        "# Let's create an empty list\n",
        "my_list = []\n",
        "\n",
        "\n",
        "# Let's add some values\n",
        "my_list.append('Python')\n",
        "my_list.append('is ok')\n",
        "my_list.append('sometimes')\n",
        "\n",
        "# Let's remove 'sometimes'\n",
        "my_list.remove('sometimes')\n",
        "\n",
        "# Let's change the second item\n",
        "my_list[1] = 'is neat'"
      ],
      "execution_count": 8,
      "outputs": []
    },
    {
      "cell_type": "code",
      "metadata": {
        "id": "e1w41CBBGJ1t"
      },
      "source": [
        "# Let's verify that it's correct\n",
        "assert my_list == ['Python', 'is neat']"
      ],
      "execution_count": 9,
      "outputs": []
    },
    {
      "cell_type": "markdown",
      "metadata": {
        "id": "7oEiUarZGJ1t"
      },
      "source": [
        "### 2. Create a new list without modifying the original one"
      ]
    },
    {
      "cell_type": "code",
      "metadata": {
        "id": "LAyviMG9GJ1u"
      },
      "source": [
        "original = ['I', 'am', 'learning', 'hacking', 'in']"
      ],
      "execution_count": 34,
      "outputs": []
    },
    {
      "cell_type": "code",
      "metadata": {
        "colab": {
          "base_uri": "https://localhost:8080/"
        },
        "id": "WbJdXVlKGJ1u",
        "outputId": "102181e7-e9a1-488a-8a31-813d0a2c3032"
      },
      "source": [
        "# TODO\n",
        "duplicate = original\n",
        "duplicate.append('Python')\n",
        "duplicate[3] = 'lists'\n",
        "print(duplicate)"
      ],
      "execution_count": 35,
      "outputs": [
        {
          "output_type": "stream",
          "text": [
            "['I', 'am', 'learning', 'lists', 'in', 'Python']\n"
          ],
          "name": "stdout"
        }
      ]
    },
    {
      "cell_type": "code",
      "metadata": {
        "colab": {
          "base_uri": "https://localhost:8080/",
          "height": 180
        },
        "id": "zRpr9HFiGJ1u",
        "outputId": "96035513-b21b-4b6d-b2ec-2ae8c8d31da7"
      },
      "source": [
        "assert original == ['I', 'am', 'learning', 'hacking', 'in']\n",
        "assert duplicate == ['I', 'am', 'learning', 'lists', 'in', 'Python']"
      ],
      "execution_count": 36,
      "outputs": [
        {
          "output_type": "error",
          "ename": "AssertionError",
          "evalue": "ignored",
          "traceback": [
            "\u001b[0;31m---------------------------------------------------------------------------\u001b[0m",
            "\u001b[0;31mAssertionError\u001b[0m                            Traceback (most recent call last)",
            "\u001b[0;32m<ipython-input-36-0e5c88f3dbfb>\u001b[0m in \u001b[0;36m<module>\u001b[0;34m()\u001b[0m\n\u001b[0;32m----> 1\u001b[0;31m \u001b[0;32massert\u001b[0m \u001b[0moriginal\u001b[0m \u001b[0;34m==\u001b[0m \u001b[0;34m[\u001b[0m\u001b[0;34m'I'\u001b[0m\u001b[0;34m,\u001b[0m \u001b[0;34m'am'\u001b[0m\u001b[0;34m,\u001b[0m \u001b[0;34m'learning'\u001b[0m\u001b[0;34m,\u001b[0m \u001b[0;34m'hacking'\u001b[0m\u001b[0;34m,\u001b[0m \u001b[0;34m'in'\u001b[0m\u001b[0;34m]\u001b[0m\u001b[0;34m\u001b[0m\u001b[0;34m\u001b[0m\u001b[0m\n\u001b[0m\u001b[1;32m      2\u001b[0m \u001b[0;32massert\u001b[0m \u001b[0mduplicate\u001b[0m \u001b[0;34m==\u001b[0m \u001b[0;34m[\u001b[0m\u001b[0;34m'I'\u001b[0m\u001b[0;34m,\u001b[0m \u001b[0;34m'am'\u001b[0m\u001b[0;34m,\u001b[0m \u001b[0;34m'learning'\u001b[0m\u001b[0;34m,\u001b[0m \u001b[0;34m'lists'\u001b[0m\u001b[0;34m,\u001b[0m \u001b[0;34m'in'\u001b[0m\u001b[0;34m,\u001b[0m \u001b[0;34m'Python'\u001b[0m\u001b[0;34m]\u001b[0m\u001b[0;34m\u001b[0m\u001b[0;34m\u001b[0m\u001b[0m\n",
            "\u001b[0;31mAssertionError\u001b[0m: "
          ]
        }
      ]
    },
    {
      "cell_type": "markdown",
      "metadata": {
        "id": "ZDRD5KTxGJ1u"
      },
      "source": [
        "### 3. Create a merged sorted list"
      ]
    },
    {
      "cell_type": "code",
      "metadata": {
        "id": "3oCYJG5RGJ1u"
      },
      "source": [
        "list1 = [6, 12, 5]\n",
        "list2 = [6.2, 0, 14, 1]\n",
        "list3 = [0.9]"
      ],
      "execution_count": 13,
      "outputs": []
    },
    {
      "cell_type": "code",
      "metadata": {
        "id": "Urt9htZkGJ1u"
      },
      "source": [
        "# TODO\n",
        "my_list = list1+list2+list3\n",
        "my_list.sort(reverse=True)"
      ],
      "execution_count": 18,
      "outputs": []
    },
    {
      "cell_type": "code",
      "metadata": {
        "colab": {
          "base_uri": "https://localhost:8080/"
        },
        "id": "P8Y4J0FvGJ1u",
        "outputId": "c1661a2c-ecae-4631-d420-8a03161d9928"
      },
      "source": [
        "print(my_list)\n",
        "assert my_list == [14, 12, 6.2, 6, 5, 1, 0.9, 0]"
      ],
      "execution_count": 19,
      "outputs": [
        {
          "output_type": "stream",
          "text": [
            "[14, 12, 6.2, 6, 5, 1, 0.9, 0]\n"
          ],
          "name": "stdout"
        }
      ]
    },
    {
      "cell_type": "markdown",
      "metadata": {
        "id": "w7Nb4VXKGJ1u"
      },
      "source": [
        "### 4. Loop through a list  \n",
        "[For Loops Documentation](https://www.w3schools.com/python/python_for_loops.asp)  \n",
        "[While Loops Documentation](https://www.w3schools.com/python/python_while_loops.asp)"
      ]
    },
    {
      "cell_type": "markdown",
      "metadata": {
        "id": "tST9z8oWGJ1u"
      },
      "source": [
        "Loop through a list and check:\n",
        "* If an item is a float, cast the float to int.\n",
        "* If an item is an int, cast the int to float\n",
        "* Hint: use isinstance()"
      ]
    },
    {
      "cell_type": "code",
      "metadata": {
        "colab": {
          "base_uri": "https://localhost:8080/",
          "height": 129
        },
        "id": "guEoKXrDGJ1u",
        "outputId": "2ee6519a-c2f6-4ea9-ae79-889a4b59df28"
      },
      "source": [
        "loop_list1 = [1101, 704.971, 'Fort Mill']\n",
        "# TODO \n",
        "# use for loop\n",
        "loop_list1 = [1101, 704.971, 'Fort Mill']\n",
        "for x in loop_list1:\n",
        "  if x = int then float\n",
        "  elif x = float then int\n",
        "    break\n",
        "  print(x)\n"
      ],
      "execution_count": 20,
      "outputs": [
        {
          "output_type": "error",
          "ename": "SyntaxError",
          "evalue": "ignored",
          "traceback": [
            "\u001b[0;36m  File \u001b[0;32m\"<ipython-input-20-069703f2cea5>\"\u001b[0;36m, line \u001b[0;32m6\u001b[0m\n\u001b[0;31m    if x = int then float\u001b[0m\n\u001b[0m         ^\u001b[0m\n\u001b[0;31mSyntaxError\u001b[0m\u001b[0;31m:\u001b[0m invalid syntax\n"
          ]
        }
      ]
    },
    {
      "cell_type": "code",
      "metadata": {
        "colab": {
          "base_uri": "https://localhost:8080/",
          "height": 197
        },
        "id": "nkXgvIItGJ1u",
        "outputId": "cd91df2a-9bd9-4cdd-aac7-8035d14f6ff9"
      },
      "source": [
        "print(loop_list1)\n",
        "assert loop_list1 == [1101.0, 704, 'Fort Mill']"
      ],
      "execution_count": 86,
      "outputs": [
        {
          "output_type": "stream",
          "text": [
            "[1101, 704.971, 'Fort Mill']\n"
          ],
          "name": "stdout"
        },
        {
          "output_type": "error",
          "ename": "AssertionError",
          "evalue": "ignored",
          "traceback": [
            "\u001b[0;31m---------------------------------------------------------------------------\u001b[0m",
            "\u001b[0;31mAssertionError\u001b[0m                            Traceback (most recent call last)",
            "\u001b[0;32m<ipython-input-86-2e8798daf423>\u001b[0m in \u001b[0;36m<module>\u001b[0;34m()\u001b[0m\n\u001b[1;32m      1\u001b[0m \u001b[0mprint\u001b[0m\u001b[0;34m(\u001b[0m\u001b[0mloop_list1\u001b[0m\u001b[0;34m)\u001b[0m\u001b[0;34m\u001b[0m\u001b[0;34m\u001b[0m\u001b[0m\n\u001b[0;32m----> 2\u001b[0;31m \u001b[0;32massert\u001b[0m \u001b[0mloop_list1\u001b[0m \u001b[0;34m==\u001b[0m \u001b[0;34m[\u001b[0m\u001b[0;36m1101.0\u001b[0m\u001b[0;34m,\u001b[0m \u001b[0;36m704\u001b[0m\u001b[0;34m,\u001b[0m \u001b[0;34m'Fort Mill'\u001b[0m\u001b[0;34m]\u001b[0m\u001b[0;34m\u001b[0m\u001b[0;34m\u001b[0m\u001b[0m\n\u001b[0m",
            "\u001b[0;31mAssertionError\u001b[0m: "
          ]
        }
      ]
    },
    {
      "cell_type": "code",
      "metadata": {
        "id": "Lgx3enifGJ1v"
      },
      "source": [
        "loop_list2 = [1101, 704.971, 'Fort Mill']\n",
        "# TODO\n",
        "# use while loop\n"
      ],
      "execution_count": null,
      "outputs": []
    },
    {
      "cell_type": "code",
      "metadata": {
        "id": "8aXhRVubGJ1v"
      },
      "source": [
        "print(loop_list2)\n",
        "assert loop_list2 == [1101.0, 704, 'Fort Mill']"
      ],
      "execution_count": null,
      "outputs": []
    },
    {
      "cell_type": "markdown",
      "metadata": {
        "id": "1Nfg6a_PGJ1v"
      },
      "source": [
        "## Tuples\n",
        "[Tuples Documentation](https://www.w3schools.com/python/python_tuples.asp)"
      ]
    },
    {
      "cell_type": "markdown",
      "metadata": {
        "id": "WBY_PX8UGJ1w"
      },
      "source": [
        "### 1. Fill the ___ parts of code below"
      ]
    },
    {
      "cell_type": "code",
      "metadata": {
        "colab": {
          "base_uri": "https://localhost:8080/"
        },
        "id": "EMavjd98GJ1w",
        "outputId": "80365ff0-5352-4791-df44-c1615b8a7725"
      },
      "source": [
        "# TODO\n",
        "# create a tuple with items of different data types\n",
        "my_tuple = (1, 1.01, 'Red Ventures')\n",
        "print(my_tuple, type(my_tuple))\n",
        "\n",
        "# Unpack my_tuple in several variables\n",
        "(whole, decimal, work) = my_tuple\n",
        "print(whole)\n",
        "print(decimal)\n",
        "print(work)\n",
        "\n",
        "# convert my_tuple to list and assign to variable my_list\n",
        "my_list = list(my_tuple)\n",
        "print(my_list, type(my_list))\n",
        "\n",
        "# convert my_list to tuple and assign to variable my_new_tuple\n",
        "my_list.append('Fort Mill')\n",
        "my_new_tuple = tuple(my_list)\n",
        "print(my_new_tuple, type(my_new_tuple))"
      ],
      "execution_count": 38,
      "outputs": [
        {
          "output_type": "stream",
          "text": [
            "(1, 1.01, 'Red Ventures') <class 'tuple'>\n",
            "1\n",
            "1.01\n",
            "Red Ventures\n",
            "[1, 1.01, 'Red Ventures'] <class 'list'>\n",
            "(1, 1.01, 'Red Ventures', 'Fort Mill') <class 'tuple'>\n"
          ],
          "name": "stdout"
        }
      ]
    },
    {
      "cell_type": "markdown",
      "metadata": {
        "id": "N2OPUx-6GJ1w"
      },
      "source": [
        "### 2. Check the immutable property of tuple"
      ]
    },
    {
      "cell_type": "code",
      "metadata": {
        "colab": {
          "base_uri": "https://localhost:8080/"
        },
        "id": "42xz2p92GJ1w",
        "outputId": "18d51ac7-d6d1-40e0-d88c-8fa9aacad892"
      },
      "source": [
        "# TODO\n",
        "rv_tuple = 1101, 'Red', 'Ventures', 'Drive'\n",
        "print(rv_tuple, type(rv_tuple))\n",
        "\n",
        "# check id\n",
        "print(id(rv_tuple))\n",
        "\n",
        "# modify the variable\n",
        "rv_tuple = rv_tuple + (29707, )\n",
        "print(rv_tuple, type(rv_tuple))\n",
        "\n",
        "# check id\n",
        "print(id(rv_tuple))\n",
        "\n",
        "# TODO\n",
        "# Do the same exercises as above for a list and see the difference\n",
        "# Remember list is mutable\n",
        "\n",
        "# TODO\n",
        "rv_list = ['Red', 'Ventures', 'Drive']\n",
        "print(rv_list, type(rv_list))\n",
        "\n",
        "# check id\n",
        "print(id(rv_list))\n",
        "\n",
        "# modify the variable\n",
        "rv_list.append('North Carolina')\n",
        "print(rv_list, type(rv_list))\n",
        "\n",
        "# check id\n",
        "print(id(rv_list))\n"
      ],
      "execution_count": 43,
      "outputs": [
        {
          "output_type": "stream",
          "text": [
            "(1101, 'Red', 'Ventures', 'Drive') <class 'tuple'>\n",
            "140508517059088\n",
            "(1101, 'Red', 'Ventures', 'Drive', 29707) <class 'tuple'>\n",
            "140508517171280\n",
            "['Red', 'Ventures', 'Drive'] <class 'list'>\n",
            "140508517131680\n",
            "['Red', 'Ventures', 'Drive', 'North Carolina'] <class 'list'>\n",
            "140508517131680\n"
          ],
          "name": "stdout"
        }
      ]
    },
    {
      "cell_type": "markdown",
      "metadata": {
        "id": "XeiimGuFGJ1w"
      },
      "source": [
        "### 3. Define Functions  \n",
        "\n",
        "[Functions Documentation](https://www.w3schools.com/python/python_functions.asp)\n",
        "\n",
        "Write a function that accepts a string and return the number of uppercase letters and lowercase letters."
      ]
    },
    {
      "cell_type": "code",
      "metadata": {
        "id": "k41X-NO6GJ1w"
      },
      "source": [
        "# TODO\n",
        "def check_case():\n",
        "  for x in 'Fort Mill':\n",
        "    if x == int then float\n",
        "    elif x = float then int\n",
        "      break\n",
        "    print(x)\n",
        "      return uppercase_number, lowercase_number\n"
      ],
      "execution_count": null,
      "outputs": []
    },
    {
      "cell_type": "code",
      "metadata": {
        "id": "VJqww82zGJ1w"
      },
      "source": [
        "my_string = \"This is Week3 Python Programming Homework.\"\n",
        "assert check_case(my_string)[0] == 5\n",
        "assert check_case(my_string)[1] == 30"
      ],
      "execution_count": null,
      "outputs": []
    },
    {
      "cell_type": "markdown",
      "metadata": {
        "id": "qToog8JsGJ1z"
      },
      "source": [
        "## Dictionary\n",
        "[Dictionary Documentation](https://www.w3schools.com/python/python_dictionaries.asp)"
      ]
    },
    {
      "cell_type": "markdown",
      "metadata": {
        "id": "D0ysvh4OGJ1z"
      },
      "source": [
        "### 1. Fill the ___ parts of code below"
      ]
    },
    {
      "cell_type": "code",
      "metadata": {
        "colab": {
          "base_uri": "https://localhost:8080/"
        },
        "id": "85ewAYraGJ1z",
        "outputId": "4f1bd32e-9476-4242-edb7-484b44a01ef1"
      },
      "source": [
        "# TODO\n",
        "# create an empty dictionary\n",
        "my_dict = {}\n",
        "print(my_dict, type(my_dict))\n",
        "\n",
        "# create a dictionary with values\n",
        "my_dict = {\n",
        "    \"Volkswagen\",\n",
        "    \"Taos\",\n",
        "    \"Grey\",\n",
        "    2022\n",
        "}\n",
        "print(my_dict, type(my_dict))\n",
        "\n",
        "# add key/value to my_dict\n",
        "my_dict = {\n",
        "    \"Brand\" : \"Volkswagen\",\n",
        "    \"Model\" : \"Taos\",\n",
        "    \"Color\" : \"Grey\",\n",
        "    \"Year\" : 2022\n",
        "}\n",
        "\n",
        "my_dict[\"Item\"] = \"Car\"\n",
        "print(my_dict)\n",
        "\n",
        "# remove the key you added from my_dict\n",
        "my_dict.pop(\"Item\")\n",
        "print(my_dict)"
      ],
      "execution_count": 45,
      "outputs": [
        {
          "output_type": "stream",
          "text": [
            "{} <class 'dict'>\n",
            "{2022, 'Grey', 'Volkswagen', 'Taos'} <class 'set'>\n",
            "{'Brand': 'Volkswagen', 'Model': 'Taos', 'Color': 'Grey', 'Year': 2022, 'Item': 'Car'}\n",
            "{'Brand': 'Volkswagen', 'Model': 'Taos', 'Color': 'Grey', 'Year': 2022}\n"
          ],
          "name": "stdout"
        }
      ]
    },
    {
      "cell_type": "markdown",
      "metadata": {
        "id": "eVYGFA0VGJ1z"
      },
      "source": [
        "### 2. Sort Dictionary\n",
        "\n",
        "Print out key/value pair by the ascending order of keys."
      ]
    },
    {
      "cell_type": "code",
      "metadata": {
        "colab": {
          "base_uri": "https://localhost:8080/"
        },
        "id": "rwtcFc9rGJ1z",
        "outputId": "32ad8594-ad3b-4d9b-a222-d8eb0c49689e"
      },
      "source": [
        "# TODO\n",
        "location_dict = {'Charlotte': 'NC', 'Austin': 'TX', 'New York': 'NY', 'Los Angeles': 'CA'}\n",
        "print(sorted(location_dict.items(), key =\n",
        "             lambda kv:(kv[1], kv[0])))\n"
      ],
      "execution_count": 49,
      "outputs": [
        {
          "output_type": "stream",
          "text": [
            "[('Los Angeles', 'CA'), ('Charlotte', 'NC'), ('New York', 'NY'), ('Austin', 'TX')]\n"
          ],
          "name": "stdout"
        }
      ]
    },
    {
      "cell_type": "markdown",
      "metadata": {
        "id": "i03zfl13GJ1z"
      },
      "source": [
        "Display the location_dict by the descending order of values."
      ]
    },
    {
      "cell_type": "code",
      "metadata": {
        "colab": {
          "base_uri": "https://localhost:8080/"
        },
        "id": "QjANVwKFGJ10",
        "outputId": "9c86104f-0d06-4b4b-babe-2c01894b50e1"
      },
      "source": [
        "# TODO\n",
        "location_dict = {'Charlotte': 'NC', 'Austin': 'TX', 'New York': 'NY', 'Los Angeles': 'CA'}\n",
        "print(sorted(location_dict.items(), reverse=True, key =\n",
        "             lambda kv:(kv[-1], kv[0])))\n"
      ],
      "execution_count": 52,
      "outputs": [
        {
          "output_type": "stream",
          "text": [
            "[('Austin', 'TX'), ('New York', 'NY'), ('Charlotte', 'NC'), ('Los Angeles', 'CA')]\n"
          ],
          "name": "stdout"
        }
      ]
    },
    {
      "cell_type": "markdown",
      "metadata": {
        "id": "IMDBRHRyGJ10"
      },
      "source": [
        "## Set"
      ]
    },
    {
      "cell_type": "markdown",
      "metadata": {
        "id": "VneXt442GJ11"
      },
      "source": [
        "Though `set` is not covered in the video materials, it is also one of the major data structures in Python.\n",
        "\n",
        "[Set Documentation](https://www.w3schools.com/python/python_sets.asp)"
      ]
    },
    {
      "cell_type": "markdown",
      "metadata": {
        "id": "81baQCqQGJ12"
      },
      "source": [
        "### 1. Fill the ____ parts of code below"
      ]
    },
    {
      "cell_type": "code",
      "metadata": {
        "id": "jS4TLcjYGJ12"
      },
      "source": [
        "# TODO\n",
        "# create an set\n",
        "my_set = ____\n",
        "print(my_set, type(my_set), '\\n')\n",
        "\n",
        "# create a set with values\n",
        "my_set = ____\n",
        "print(my_set, type(my_set), '\\n')\n",
        "\n",
        "# add a new value to my_set\n",
        "# the value should be a different\n",
        "my_set.___\n",
        "print(my_set, '\\n')\n",
        "\n",
        "\n",
        "# remove the value you added from my_set\n",
        "my_set.____\n",
        "print(my_set, '\\n')"
      ],
      "execution_count": null,
      "outputs": []
    },
    {
      "cell_type": "markdown",
      "metadata": {
        "id": "YbvA5aEYGJ14"
      },
      "source": [
        "### 2. Set Manipulation"
      ]
    },
    {
      "cell_type": "markdown",
      "metadata": {
        "id": "RQHmlEVIGJ14"
      },
      "source": [
        "Use a list  with duplicated values and a tuple to create two sets respectively, and get a union set between those two."
      ]
    },
    {
      "cell_type": "code",
      "metadata": {
        "id": "UrxqqQA4GJ14"
      },
      "source": [
        "# TODO\n"
      ],
      "execution_count": null,
      "outputs": []
    },
    {
      "cell_type": "markdown",
      "metadata": {
        "id": "rONbj8DtGJ14"
      },
      "source": [
        "Create two sets `my_set1` and `my_set2`, and get values in `my_set1` but not in `my_set2`."
      ]
    },
    {
      "cell_type": "code",
      "metadata": {
        "id": "YBTCSNBNGJ14"
      },
      "source": [
        "# TODO\n"
      ],
      "execution_count": null,
      "outputs": []
    },
    {
      "cell_type": "markdown",
      "metadata": {
        "id": "zb7sFtiLGJ14"
      },
      "source": [
        "## DataFrames"
      ]
    },
    {
      "cell_type": "markdown",
      "metadata": {
        "id": "xwbSnHDsGJ14"
      },
      "source": [
        "[Dataframe Documentation](https://pandas.pydata.org/pandas-docs/stable/reference/api/pandas.DataFrame.html)"
      ]
    },
    {
      "cell_type": "code",
      "metadata": {
        "id": "uy8thEj7GJ14"
      },
      "source": [
        "import pandas as pd\n",
        "url = 'https://archive.ics.uci.edu/ml/machine-learning-databases/wine-quality/winequality-red.csv'\n",
        "\n",
        "# Download the CSV from the above url.\n",
        "# This csv is separated by a ';' so we need to add that as a parameter to the read_csv method.\n",
        "df = pd.read_csv(url, sep=';')"
      ],
      "execution_count": 5,
      "outputs": []
    },
    {
      "cell_type": "markdown",
      "metadata": {
        "id": "r0JrtNeEGJ14"
      },
      "source": [
        "Show the first 6 rows of the `df` dataframe"
      ]
    },
    {
      "cell_type": "code",
      "metadata": {
        "colab": {
          "base_uri": "https://localhost:8080/"
        },
        "id": "KpiDFJFYGJ14",
        "outputId": "f0f573d9-fc28-4bac-b0ba-29ff6d4c405c"
      },
      "source": [
        "# TODO\n",
        "df6 = df.head(6)\n",
        "print(df6)"
      ],
      "execution_count": 6,
      "outputs": [
        {
          "output_type": "stream",
          "text": [
            "   fixed acidity  volatile acidity  citric acid  ...  sulphates  alcohol  quality\n",
            "0            7.4              0.70         0.00  ...       0.56      9.4        5\n",
            "1            7.8              0.88         0.00  ...       0.68      9.8        5\n",
            "2            7.8              0.76         0.04  ...       0.65      9.8        5\n",
            "3           11.2              0.28         0.56  ...       0.58      9.8        6\n",
            "4            7.4              0.70         0.00  ...       0.56      9.4        5\n",
            "5            7.4              0.66         0.00  ...       0.56      9.4        5\n",
            "\n",
            "[6 rows x 12 columns]\n"
          ],
          "name": "stdout"
        }
      ]
    },
    {
      "cell_type": "markdown",
      "metadata": {
        "id": "rAk8VRmhGJ15"
      },
      "source": [
        "Print out the summary statistics for each dataframe column"
      ]
    },
    {
      "cell_type": "code",
      "metadata": {
        "colab": {
          "base_uri": "https://localhost:8080/"
        },
        "id": "K_z_qNQBGJ15",
        "outputId": "a14cc686-d682-4c7d-91f7-c5ca82a79ab6"
      },
      "source": [
        "# TODO\n",
        "print(df.describe())"
      ],
      "execution_count": 7,
      "outputs": [
        {
          "output_type": "stream",
          "text": [
            "       fixed acidity  volatile acidity  ...      alcohol      quality\n",
            "count    1599.000000       1599.000000  ...  1599.000000  1599.000000\n",
            "mean        8.319637          0.527821  ...    10.422983     5.636023\n",
            "std         1.741096          0.179060  ...     1.065668     0.807569\n",
            "min         4.600000          0.120000  ...     8.400000     3.000000\n",
            "25%         7.100000          0.390000  ...     9.500000     5.000000\n",
            "50%         7.900000          0.520000  ...    10.200000     6.000000\n",
            "75%         9.200000          0.640000  ...    11.100000     6.000000\n",
            "max        15.900000          1.580000  ...    14.900000     8.000000\n",
            "\n",
            "[8 rows x 12 columns]\n"
          ],
          "name": "stdout"
        }
      ]
    },
    {
      "cell_type": "markdown",
      "metadata": {
        "id": "hJ9OjcIYGJ15"
      },
      "source": [
        "## Submission\n",
        "\n",
        "Download completed **Week2_Python_Homework.ipynb** from Google Colab and commit to your personal Github repo you shared with the faculty."
      ]
    }
  ]
}
{
  "nbformat": 4,
  "nbformat_minor": 0,
  "metadata": {
    "colab": {
      "name": "Week4_PythonProgramming_Homework.ipynb",
      "provenance": [],
      "collapsed_sections": []
    },
    "kernelspec": {
      "display_name": "Python 3",
      "language": "python",
      "name": "python3"
    },
    "language_info": {
      "codemirror_mode": {
        "name": "ipython",
        "version": 3
      },
      "file_extension": ".py",
      "mimetype": "text/x-python",
      "name": "python",
      "nbconvert_exporter": "python",
      "pygments_lexer": "ipython3",
      "version": "3.7.3"
    }
  },
  "cells": [
    {
      "cell_type": "markdown",
      "metadata": {
        "id": "GP-HalC3roLG"
      },
      "source": [
        "# Data Prep and Visualization in Python\n",
        "\n",
        "In this project, we'll work through munging a data set and creating visualizations related to trends in the airline industry in the middle of the last century. You'll get started using [MatPlotLib](https://matplotlib.org/), a very powerful and popular plotting library in Python that is covered in this week's course materials."
      ]
    },
    {
      "cell_type": "code",
      "metadata": {
        "colab": {
          "base_uri": "https://localhost:8080/"
        },
        "id": "qewntzwSpil5",
        "outputId": "78e6fa71-eba5-455a-8789-8301998279d4"
      },
      "source": [
        "# Install the pydataset package. This package gives us data sets to work with very easily\n",
        "! pip install pydataset"
      ],
      "execution_count": 1,
      "outputs": [
        {
          "output_type": "stream",
          "name": "stdout",
          "text": [
            "Collecting pydataset\n",
            "  Downloading pydataset-0.2.0.tar.gz (15.9 MB)\n",
            "\u001b[K     |████████████████████████████████| 15.9 MB 108 kB/s \n",
            "\u001b[?25hRequirement already satisfied: pandas in /usr/local/lib/python3.7/dist-packages (from pydataset) (1.1.5)\n",
            "Requirement already satisfied: pytz>=2017.2 in /usr/local/lib/python3.7/dist-packages (from pandas->pydataset) (2018.9)\n",
            "Requirement already satisfied: numpy>=1.15.4 in /usr/local/lib/python3.7/dist-packages (from pandas->pydataset) (1.19.5)\n",
            "Requirement already satisfied: python-dateutil>=2.7.3 in /usr/local/lib/python3.7/dist-packages (from pandas->pydataset) (2.8.2)\n",
            "Requirement already satisfied: six>=1.5 in /usr/local/lib/python3.7/dist-packages (from python-dateutil>=2.7.3->pandas->pydataset) (1.15.0)\n",
            "Building wheels for collected packages: pydataset\n",
            "  Building wheel for pydataset (setup.py) ... \u001b[?25l\u001b[?25hdone\n",
            "  Created wheel for pydataset: filename=pydataset-0.2.0-py3-none-any.whl size=15939430 sha256=cb7d508c4e1a9a2bef858c994bbdbed6e97b04fe789bab516f993d18b1624e84\n",
            "  Stored in directory: /root/.cache/pip/wheels/32/26/30/d71562a19eed948eaada9a61b4d722fa358657a3bfb5d151e2\n",
            "Successfully built pydataset\n",
            "Installing collected packages: pydataset\n",
            "Successfully installed pydataset-0.2.0\n"
          ]
        }
      ]
    },
    {
      "cell_type": "code",
      "metadata": {
        "id": "r3HfRWoSVIfW"
      },
      "source": [
        "# The convention for importing matplotlib with an alias is \"plt\". We'll also need pandas and numpy\n",
        "\n",
        "import pandas as pd\n",
        "import matplotlib.pyplot as plt\n",
        "import numpy as np"
      ],
      "execution_count": 2,
      "outputs": []
    },
    {
      "cell_type": "markdown",
      "metadata": {
        "id": "wJt4tazuRpEL"
      },
      "source": [
        "## The Air Passengers Dataset\n",
        "\n",
        "This dataset shows the number of passengers flying United States airlines by month from 1949-1960. Your job is to do various data munging operations on this dataset to clean it up and prepare it for several visualizations. You will then determine what code is needed to generate those visualizations."
      ]
    },
    {
      "cell_type": "code",
      "metadata": {
        "id": "b7JyR8TRp-mL",
        "colab": {
          "base_uri": "https://localhost:8080/"
        },
        "outputId": "0b079ef1-6d6d-4164-cf88-33c661e89db4"
      },
      "source": [
        "from pydataset import data\n",
        "\n",
        "passengers = data('AirPassengers')"
      ],
      "execution_count": 3,
      "outputs": [
        {
          "output_type": "stream",
          "name": "stdout",
          "text": [
            "initiated datasets repo at: /root/.pydataset/\n"
          ]
        }
      ]
    },
    {
      "cell_type": "markdown",
      "metadata": {
        "id": "Za8LF_ubmIsV"
      },
      "source": [
        "Ugh. When we examine the head of this datset, we can see that the years are in decimal form rather than month and year. We'll need to change that before we can do our analysis.\n",
        "\n",
        "NOTE: The times are represented by twelfths. i.e. 1949.00000 = 149 0/12 (January). 1949.083333 = 1949 1/12 (February), and so on."
      ]
    },
    {
      "cell_type": "code",
      "metadata": {
        "colab": {
          "base_uri": "https://localhost:8080/",
          "height": 421
        },
        "id": "551KQ43sQ9uf",
        "outputId": "bfda6f2a-d579-48a3-d756-f4fa7d86c5c4"
      },
      "source": [
        "passengers.head(12)"
      ],
      "execution_count": 4,
      "outputs": [
        {
          "output_type": "execute_result",
          "data": {
            "text/html": [
              "<div>\n",
              "<style scoped>\n",
              "    .dataframe tbody tr th:only-of-type {\n",
              "        vertical-align: middle;\n",
              "    }\n",
              "\n",
              "    .dataframe tbody tr th {\n",
              "        vertical-align: top;\n",
              "    }\n",
              "\n",
              "    .dataframe thead th {\n",
              "        text-align: right;\n",
              "    }\n",
              "</style>\n",
              "<table border=\"1\" class=\"dataframe\">\n",
              "  <thead>\n",
              "    <tr style=\"text-align: right;\">\n",
              "      <th></th>\n",
              "      <th>time</th>\n",
              "      <th>AirPassengers</th>\n",
              "    </tr>\n",
              "  </thead>\n",
              "  <tbody>\n",
              "    <tr>\n",
              "      <th>1</th>\n",
              "      <td>1949.000000</td>\n",
              "      <td>112</td>\n",
              "    </tr>\n",
              "    <tr>\n",
              "      <th>2</th>\n",
              "      <td>1949.083333</td>\n",
              "      <td>118</td>\n",
              "    </tr>\n",
              "    <tr>\n",
              "      <th>3</th>\n",
              "      <td>1949.166667</td>\n",
              "      <td>132</td>\n",
              "    </tr>\n",
              "    <tr>\n",
              "      <th>4</th>\n",
              "      <td>1949.250000</td>\n",
              "      <td>129</td>\n",
              "    </tr>\n",
              "    <tr>\n",
              "      <th>5</th>\n",
              "      <td>1949.333333</td>\n",
              "      <td>121</td>\n",
              "    </tr>\n",
              "    <tr>\n",
              "      <th>6</th>\n",
              "      <td>1949.416667</td>\n",
              "      <td>135</td>\n",
              "    </tr>\n",
              "    <tr>\n",
              "      <th>7</th>\n",
              "      <td>1949.500000</td>\n",
              "      <td>148</td>\n",
              "    </tr>\n",
              "    <tr>\n",
              "      <th>8</th>\n",
              "      <td>1949.583333</td>\n",
              "      <td>148</td>\n",
              "    </tr>\n",
              "    <tr>\n",
              "      <th>9</th>\n",
              "      <td>1949.666667</td>\n",
              "      <td>136</td>\n",
              "    </tr>\n",
              "    <tr>\n",
              "      <th>10</th>\n",
              "      <td>1949.750000</td>\n",
              "      <td>119</td>\n",
              "    </tr>\n",
              "    <tr>\n",
              "      <th>11</th>\n",
              "      <td>1949.833333</td>\n",
              "      <td>104</td>\n",
              "    </tr>\n",
              "    <tr>\n",
              "      <th>12</th>\n",
              "      <td>1949.916667</td>\n",
              "      <td>118</td>\n",
              "    </tr>\n",
              "  </tbody>\n",
              "</table>\n",
              "</div>"
            ],
            "text/plain": [
              "           time  AirPassengers\n",
              "1   1949.000000            112\n",
              "2   1949.083333            118\n",
              "3   1949.166667            132\n",
              "4   1949.250000            129\n",
              "5   1949.333333            121\n",
              "6   1949.416667            135\n",
              "7   1949.500000            148\n",
              "8   1949.583333            148\n",
              "9   1949.666667            136\n",
              "10  1949.750000            119\n",
              "11  1949.833333            104\n",
              "12  1949.916667            118"
            ]
          },
          "metadata": {},
          "execution_count": 4
        }
      ]
    },
    {
      "cell_type": "code",
      "metadata": {
        "colab": {
          "base_uri": "https://localhost:8080/"
        },
        "id": "kkUMUp44mOj8",
        "outputId": "83b530bc-ee57-4e31-dbd5-40c4fe2f4388"
      },
      "source": [
        "x = passengers['time'].astype(str).str.split(\".\")\n",
        "print(x)\n"
      ],
      "execution_count": 5,
      "outputs": [
        {
          "output_type": "stream",
          "name": "stdout",
          "text": [
            "1                  [1949, 0]\n",
            "2        [1949, 08333333333]\n",
            "3        [1949, 16666666667]\n",
            "4                 [1949, 25]\n",
            "5        [1949, 33333333333]\n",
            "6        [1949, 41666666667]\n",
            "7                  [1949, 5]\n",
            "8        [1949, 58333333333]\n",
            "9        [1949, 66666666667]\n",
            "10                [1949, 75]\n",
            "11       [1949, 83333333333]\n",
            "12       [1949, 91666666667]\n",
            "13                 [1950, 0]\n",
            "14       [1950, 08333333333]\n",
            "15       [1950, 16666666667]\n",
            "16                [1950, 25]\n",
            "17       [1950, 33333333333]\n",
            "18       [1950, 41666666667]\n",
            "19                 [1950, 5]\n",
            "20       [1950, 58333333333]\n",
            "21       [1950, 66666666667]\n",
            "22                [1950, 75]\n",
            "23       [1950, 83333333333]\n",
            "24       [1950, 91666666667]\n",
            "25                 [1951, 0]\n",
            "26       [1951, 08333333333]\n",
            "27       [1951, 16666666667]\n",
            "28                [1951, 25]\n",
            "29       [1951, 33333333333]\n",
            "30       [1951, 41666666667]\n",
            "31                 [1951, 5]\n",
            "32       [1951, 58333333333]\n",
            "33       [1951, 66666666667]\n",
            "34                [1951, 75]\n",
            "35       [1951, 83333333333]\n",
            "36       [1951, 91666666667]\n",
            "37                 [1952, 0]\n",
            "38       [1952, 08333333333]\n",
            "39       [1952, 16666666667]\n",
            "40                [1952, 25]\n",
            "41       [1952, 33333333333]\n",
            "42       [1952, 41666666667]\n",
            "43                 [1952, 5]\n",
            "44       [1952, 58333333333]\n",
            "45       [1952, 66666666667]\n",
            "46                [1952, 75]\n",
            "47       [1952, 83333333333]\n",
            "48       [1952, 91666666667]\n",
            "49                 [1953, 0]\n",
            "50       [1953, 08333333333]\n",
            "51       [1953, 16666666667]\n",
            "52                [1953, 25]\n",
            "53       [1953, 33333333333]\n",
            "54       [1953, 41666666667]\n",
            "55                 [1953, 5]\n",
            "56       [1953, 58333333333]\n",
            "57       [1953, 66666666667]\n",
            "58                [1953, 75]\n",
            "59       [1953, 83333333333]\n",
            "60       [1953, 91666666667]\n",
            "61                 [1954, 0]\n",
            "62       [1954, 08333333333]\n",
            "63       [1954, 16666666667]\n",
            "64                [1954, 25]\n",
            "65       [1954, 33333333333]\n",
            "66       [1954, 41666666667]\n",
            "67                 [1954, 5]\n",
            "68       [1954, 58333333333]\n",
            "69       [1954, 66666666667]\n",
            "70                [1954, 75]\n",
            "71       [1954, 83333333333]\n",
            "72       [1954, 91666666667]\n",
            "73                 [1955, 0]\n",
            "74     [1955, 0833333333399]\n",
            "75       [1955, 16666666667]\n",
            "76                [1955, 25]\n",
            "77     [1955, 3333333333399]\n",
            "78       [1955, 41666666667]\n",
            "79                 [1955, 5]\n",
            "80     [1955, 5833333333399]\n",
            "81       [1955, 66666666667]\n",
            "82                [1955, 75]\n",
            "83     [1955, 8333333333399]\n",
            "84       [1955, 91666666667]\n",
            "85                 [1956, 0]\n",
            "86     [1956, 0833333333399]\n",
            "87       [1956, 16666666667]\n",
            "88                [1956, 25]\n",
            "89     [1956, 3333333333399]\n",
            "90       [1956, 41666666667]\n",
            "91                 [1956, 5]\n",
            "92     [1956, 5833333333399]\n",
            "93       [1956, 66666666667]\n",
            "94                [1956, 75]\n",
            "95     [1956, 8333333333399]\n",
            "96       [1956, 91666666667]\n",
            "97                 [1957, 0]\n",
            "98     [1957, 0833333333399]\n",
            "99       [1957, 16666666667]\n",
            "100               [1957, 25]\n",
            "101    [1957, 3333333333399]\n",
            "102      [1957, 41666666667]\n",
            "103                [1957, 5]\n",
            "104    [1957, 5833333333399]\n",
            "105      [1957, 66666666667]\n",
            "106               [1957, 75]\n",
            "107    [1957, 8333333333399]\n",
            "108      [1957, 91666666667]\n",
            "109                [1958, 0]\n",
            "110    [1958, 0833333333399]\n",
            "111      [1958, 16666666667]\n",
            "112               [1958, 25]\n",
            "113    [1958, 3333333333399]\n",
            "114      [1958, 41666666667]\n",
            "115                [1958, 5]\n",
            "116    [1958, 5833333333399]\n",
            "117      [1958, 66666666667]\n",
            "118               [1958, 75]\n",
            "119    [1958, 8333333333399]\n",
            "120      [1958, 91666666667]\n",
            "121                [1959, 0]\n",
            "122    [1959, 0833333333399]\n",
            "123      [1959, 16666666667]\n",
            "124               [1959, 25]\n",
            "125    [1959, 3333333333399]\n",
            "126      [1959, 41666666667]\n",
            "127                [1959, 5]\n",
            "128    [1959, 5833333333399]\n",
            "129      [1959, 66666666667]\n",
            "130               [1959, 75]\n",
            "131    [1959, 8333333333399]\n",
            "132      [1959, 91666666667]\n",
            "133                [1960, 0]\n",
            "134    [1960, 0833333333399]\n",
            "135      [1960, 16666666667]\n",
            "136               [1960, 25]\n",
            "137    [1960, 3333333333399]\n",
            "138      [1960, 41666666667]\n",
            "139                [1960, 5]\n",
            "140    [1960, 5833333333399]\n",
            "141      [1960, 66666666667]\n",
            "142               [1960, 75]\n",
            "143    [1960, 8333333333399]\n",
            "144      [1960, 91666666667]\n",
            "Name: time, dtype: object\n"
          ]
        }
      ]
    },
    {
      "cell_type": "markdown",
      "metadata": {
        "id": "5wnzkVC4kQnc"
      },
      "source": [
        "## The decimal years complicate the EDA work\n",
        "\n",
        "We need to deal with this by making explicit month and year columns. It is common to have to reformat columns like this in a dataframe"
      ]
    },
    {
      "cell_type": "markdown",
      "metadata": {
        "id": "KbRfTZMUjzuP"
      },
      "source": [
        "## #1 Add a 'year' column to passengers that reflects the current year"
      ]
    },
    {
      "cell_type": "code",
      "metadata": {
        "colab": {
          "base_uri": "https://localhost:8080/"
        },
        "id": "CWyRNghdSI9I",
        "outputId": "e7ff5229-5dbf-44e9-f391-340e13930f68"
      },
      "source": [
        "# TODO\n",
        "passengers['Year'] =passengers['time'].apply(lambda x: str(x).split('.')[0])\n",
        "passengers['Year'] = passengers['Year'].astype(float)\n",
        "print(passengers)\n"
      ],
      "execution_count": 6,
      "outputs": [
        {
          "output_type": "stream",
          "name": "stdout",
          "text": [
            "            time  AirPassengers    Year\n",
            "1    1949.000000            112  1949.0\n",
            "2    1949.083333            118  1949.0\n",
            "3    1949.166667            132  1949.0\n",
            "4    1949.250000            129  1949.0\n",
            "5    1949.333333            121  1949.0\n",
            "6    1949.416667            135  1949.0\n",
            "7    1949.500000            148  1949.0\n",
            "8    1949.583333            148  1949.0\n",
            "9    1949.666667            136  1949.0\n",
            "10   1949.750000            119  1949.0\n",
            "11   1949.833333            104  1949.0\n",
            "12   1949.916667            118  1949.0\n",
            "13   1950.000000            115  1950.0\n",
            "14   1950.083333            126  1950.0\n",
            "15   1950.166667            141  1950.0\n",
            "16   1950.250000            135  1950.0\n",
            "17   1950.333333            125  1950.0\n",
            "18   1950.416667            149  1950.0\n",
            "19   1950.500000            170  1950.0\n",
            "20   1950.583333            170  1950.0\n",
            "21   1950.666667            158  1950.0\n",
            "22   1950.750000            133  1950.0\n",
            "23   1950.833333            114  1950.0\n",
            "24   1950.916667            140  1950.0\n",
            "25   1951.000000            145  1951.0\n",
            "26   1951.083333            150  1951.0\n",
            "27   1951.166667            178  1951.0\n",
            "28   1951.250000            163  1951.0\n",
            "29   1951.333333            172  1951.0\n",
            "30   1951.416667            178  1951.0\n",
            "31   1951.500000            199  1951.0\n",
            "32   1951.583333            199  1951.0\n",
            "33   1951.666667            184  1951.0\n",
            "34   1951.750000            162  1951.0\n",
            "35   1951.833333            146  1951.0\n",
            "36   1951.916667            166  1951.0\n",
            "37   1952.000000            171  1952.0\n",
            "38   1952.083333            180  1952.0\n",
            "39   1952.166667            193  1952.0\n",
            "40   1952.250000            181  1952.0\n",
            "41   1952.333333            183  1952.0\n",
            "42   1952.416667            218  1952.0\n",
            "43   1952.500000            230  1952.0\n",
            "44   1952.583333            242  1952.0\n",
            "45   1952.666667            209  1952.0\n",
            "46   1952.750000            191  1952.0\n",
            "47   1952.833333            172  1952.0\n",
            "48   1952.916667            194  1952.0\n",
            "49   1953.000000            196  1953.0\n",
            "50   1953.083333            196  1953.0\n",
            "51   1953.166667            236  1953.0\n",
            "52   1953.250000            235  1953.0\n",
            "53   1953.333333            229  1953.0\n",
            "54   1953.416667            243  1953.0\n",
            "55   1953.500000            264  1953.0\n",
            "56   1953.583333            272  1953.0\n",
            "57   1953.666667            237  1953.0\n",
            "58   1953.750000            211  1953.0\n",
            "59   1953.833333            180  1953.0\n",
            "60   1953.916667            201  1953.0\n",
            "61   1954.000000            204  1954.0\n",
            "62   1954.083333            188  1954.0\n",
            "63   1954.166667            235  1954.0\n",
            "64   1954.250000            227  1954.0\n",
            "65   1954.333333            234  1954.0\n",
            "66   1954.416667            264  1954.0\n",
            "67   1954.500000            302  1954.0\n",
            "68   1954.583333            293  1954.0\n",
            "69   1954.666667            259  1954.0\n",
            "70   1954.750000            229  1954.0\n",
            "71   1954.833333            203  1954.0\n",
            "72   1954.916667            229  1954.0\n",
            "73   1955.000000            242  1955.0\n",
            "74   1955.083333            233  1955.0\n",
            "75   1955.166667            267  1955.0\n",
            "76   1955.250000            269  1955.0\n",
            "77   1955.333333            270  1955.0\n",
            "78   1955.416667            315  1955.0\n",
            "79   1955.500000            364  1955.0\n",
            "80   1955.583333            347  1955.0\n",
            "81   1955.666667            312  1955.0\n",
            "82   1955.750000            274  1955.0\n",
            "83   1955.833333            237  1955.0\n",
            "84   1955.916667            278  1955.0\n",
            "85   1956.000000            284  1956.0\n",
            "86   1956.083333            277  1956.0\n",
            "87   1956.166667            317  1956.0\n",
            "88   1956.250000            313  1956.0\n",
            "89   1956.333333            318  1956.0\n",
            "90   1956.416667            374  1956.0\n",
            "91   1956.500000            413  1956.0\n",
            "92   1956.583333            405  1956.0\n",
            "93   1956.666667            355  1956.0\n",
            "94   1956.750000            306  1956.0\n",
            "95   1956.833333            271  1956.0\n",
            "96   1956.916667            306  1956.0\n",
            "97   1957.000000            315  1957.0\n",
            "98   1957.083333            301  1957.0\n",
            "99   1957.166667            356  1957.0\n",
            "100  1957.250000            348  1957.0\n",
            "101  1957.333333            355  1957.0\n",
            "102  1957.416667            422  1957.0\n",
            "103  1957.500000            465  1957.0\n",
            "104  1957.583333            467  1957.0\n",
            "105  1957.666667            404  1957.0\n",
            "106  1957.750000            347  1957.0\n",
            "107  1957.833333            305  1957.0\n",
            "108  1957.916667            336  1957.0\n",
            "109  1958.000000            340  1958.0\n",
            "110  1958.083333            318  1958.0\n",
            "111  1958.166667            362  1958.0\n",
            "112  1958.250000            348  1958.0\n",
            "113  1958.333333            363  1958.0\n",
            "114  1958.416667            435  1958.0\n",
            "115  1958.500000            491  1958.0\n",
            "116  1958.583333            505  1958.0\n",
            "117  1958.666667            404  1958.0\n",
            "118  1958.750000            359  1958.0\n",
            "119  1958.833333            310  1958.0\n",
            "120  1958.916667            337  1958.0\n",
            "121  1959.000000            360  1959.0\n",
            "122  1959.083333            342  1959.0\n",
            "123  1959.166667            406  1959.0\n",
            "124  1959.250000            396  1959.0\n",
            "125  1959.333333            420  1959.0\n",
            "126  1959.416667            472  1959.0\n",
            "127  1959.500000            548  1959.0\n",
            "128  1959.583333            559  1959.0\n",
            "129  1959.666667            463  1959.0\n",
            "130  1959.750000            407  1959.0\n",
            "131  1959.833333            362  1959.0\n",
            "132  1959.916667            405  1959.0\n",
            "133  1960.000000            417  1960.0\n",
            "134  1960.083333            391  1960.0\n",
            "135  1960.166667            419  1960.0\n",
            "136  1960.250000            461  1960.0\n",
            "137  1960.333333            472  1960.0\n",
            "138  1960.416667            535  1960.0\n",
            "139  1960.500000            622  1960.0\n",
            "140  1960.583333            606  1960.0\n",
            "141  1960.666667            508  1960.0\n",
            "142  1960.750000            461  1960.0\n",
            "143  1960.833333            390  1960.0\n",
            "144  1960.916667            432  1960.0\n"
          ]
        }
      ]
    },
    {
      "cell_type": "markdown",
      "metadata": {
        "id": "1oVHWw-XkIKi"
      },
      "source": [
        "## #2 Add a \"month\" column\n",
        "\n",
        "Set this up in such a way that January is represented with a 1, February with a 2, etc.\n",
        "\n",
        "*Hint: Create a column in `passengers` with a 2-digit decimal equivalent (after the dot). This column will repeat values every 12 rows. If we know what month each value in this column maps to, can we get our desired `month` column via some dataframe operation using this column?*"
      ]
    },
    {
      "cell_type": "code",
      "metadata": {
        "colab": {
          "base_uri": "https://localhost:8080/"
        },
        "id": "jRtzPhybR7Z0",
        "outputId": "445b2af0-d3a0-40e8-bab7-6b008edb5764"
      },
      "source": [
        "# TODO\n",
        "passengers['Month'] = passengers['time'].apply(lambda x: int(round(x%1 * 12, 0) + 1))\n",
        "passengers['Month'] = passengers['Month'].astype(float)\n",
        "print(passengers)\n",
        "#passengers[\"month\"] = round((passengers.time - passengers.year)*12 + 1).astype(int)"
      ],
      "execution_count": 7,
      "outputs": [
        {
          "output_type": "stream",
          "name": "stdout",
          "text": [
            "            time  AirPassengers    Year  Month\n",
            "1    1949.000000            112  1949.0    1.0\n",
            "2    1949.083333            118  1949.0    2.0\n",
            "3    1949.166667            132  1949.0    3.0\n",
            "4    1949.250000            129  1949.0    4.0\n",
            "5    1949.333333            121  1949.0    5.0\n",
            "6    1949.416667            135  1949.0    6.0\n",
            "7    1949.500000            148  1949.0    7.0\n",
            "8    1949.583333            148  1949.0    8.0\n",
            "9    1949.666667            136  1949.0    9.0\n",
            "10   1949.750000            119  1949.0   10.0\n",
            "11   1949.833333            104  1949.0   11.0\n",
            "12   1949.916667            118  1949.0   12.0\n",
            "13   1950.000000            115  1950.0    1.0\n",
            "14   1950.083333            126  1950.0    2.0\n",
            "15   1950.166667            141  1950.0    3.0\n",
            "16   1950.250000            135  1950.0    4.0\n",
            "17   1950.333333            125  1950.0    5.0\n",
            "18   1950.416667            149  1950.0    6.0\n",
            "19   1950.500000            170  1950.0    7.0\n",
            "20   1950.583333            170  1950.0    8.0\n",
            "21   1950.666667            158  1950.0    9.0\n",
            "22   1950.750000            133  1950.0   10.0\n",
            "23   1950.833333            114  1950.0   11.0\n",
            "24   1950.916667            140  1950.0   12.0\n",
            "25   1951.000000            145  1951.0    1.0\n",
            "26   1951.083333            150  1951.0    2.0\n",
            "27   1951.166667            178  1951.0    3.0\n",
            "28   1951.250000            163  1951.0    4.0\n",
            "29   1951.333333            172  1951.0    5.0\n",
            "30   1951.416667            178  1951.0    6.0\n",
            "31   1951.500000            199  1951.0    7.0\n",
            "32   1951.583333            199  1951.0    8.0\n",
            "33   1951.666667            184  1951.0    9.0\n",
            "34   1951.750000            162  1951.0   10.0\n",
            "35   1951.833333            146  1951.0   11.0\n",
            "36   1951.916667            166  1951.0   12.0\n",
            "37   1952.000000            171  1952.0    1.0\n",
            "38   1952.083333            180  1952.0    2.0\n",
            "39   1952.166667            193  1952.0    3.0\n",
            "40   1952.250000            181  1952.0    4.0\n",
            "41   1952.333333            183  1952.0    5.0\n",
            "42   1952.416667            218  1952.0    6.0\n",
            "43   1952.500000            230  1952.0    7.0\n",
            "44   1952.583333            242  1952.0    8.0\n",
            "45   1952.666667            209  1952.0    9.0\n",
            "46   1952.750000            191  1952.0   10.0\n",
            "47   1952.833333            172  1952.0   11.0\n",
            "48   1952.916667            194  1952.0   12.0\n",
            "49   1953.000000            196  1953.0    1.0\n",
            "50   1953.083333            196  1953.0    2.0\n",
            "51   1953.166667            236  1953.0    3.0\n",
            "52   1953.250000            235  1953.0    4.0\n",
            "53   1953.333333            229  1953.0    5.0\n",
            "54   1953.416667            243  1953.0    6.0\n",
            "55   1953.500000            264  1953.0    7.0\n",
            "56   1953.583333            272  1953.0    8.0\n",
            "57   1953.666667            237  1953.0    9.0\n",
            "58   1953.750000            211  1953.0   10.0\n",
            "59   1953.833333            180  1953.0   11.0\n",
            "60   1953.916667            201  1953.0   12.0\n",
            "61   1954.000000            204  1954.0    1.0\n",
            "62   1954.083333            188  1954.0    2.0\n",
            "63   1954.166667            235  1954.0    3.0\n",
            "64   1954.250000            227  1954.0    4.0\n",
            "65   1954.333333            234  1954.0    5.0\n",
            "66   1954.416667            264  1954.0    6.0\n",
            "67   1954.500000            302  1954.0    7.0\n",
            "68   1954.583333            293  1954.0    8.0\n",
            "69   1954.666667            259  1954.0    9.0\n",
            "70   1954.750000            229  1954.0   10.0\n",
            "71   1954.833333            203  1954.0   11.0\n",
            "72   1954.916667            229  1954.0   12.0\n",
            "73   1955.000000            242  1955.0    1.0\n",
            "74   1955.083333            233  1955.0    2.0\n",
            "75   1955.166667            267  1955.0    3.0\n",
            "76   1955.250000            269  1955.0    4.0\n",
            "77   1955.333333            270  1955.0    5.0\n",
            "78   1955.416667            315  1955.0    6.0\n",
            "79   1955.500000            364  1955.0    7.0\n",
            "80   1955.583333            347  1955.0    8.0\n",
            "81   1955.666667            312  1955.0    9.0\n",
            "82   1955.750000            274  1955.0   10.0\n",
            "83   1955.833333            237  1955.0   11.0\n",
            "84   1955.916667            278  1955.0   12.0\n",
            "85   1956.000000            284  1956.0    1.0\n",
            "86   1956.083333            277  1956.0    2.0\n",
            "87   1956.166667            317  1956.0    3.0\n",
            "88   1956.250000            313  1956.0    4.0\n",
            "89   1956.333333            318  1956.0    5.0\n",
            "90   1956.416667            374  1956.0    6.0\n",
            "91   1956.500000            413  1956.0    7.0\n",
            "92   1956.583333            405  1956.0    8.0\n",
            "93   1956.666667            355  1956.0    9.0\n",
            "94   1956.750000            306  1956.0   10.0\n",
            "95   1956.833333            271  1956.0   11.0\n",
            "96   1956.916667            306  1956.0   12.0\n",
            "97   1957.000000            315  1957.0    1.0\n",
            "98   1957.083333            301  1957.0    2.0\n",
            "99   1957.166667            356  1957.0    3.0\n",
            "100  1957.250000            348  1957.0    4.0\n",
            "101  1957.333333            355  1957.0    5.0\n",
            "102  1957.416667            422  1957.0    6.0\n",
            "103  1957.500000            465  1957.0    7.0\n",
            "104  1957.583333            467  1957.0    8.0\n",
            "105  1957.666667            404  1957.0    9.0\n",
            "106  1957.750000            347  1957.0   10.0\n",
            "107  1957.833333            305  1957.0   11.0\n",
            "108  1957.916667            336  1957.0   12.0\n",
            "109  1958.000000            340  1958.0    1.0\n",
            "110  1958.083333            318  1958.0    2.0\n",
            "111  1958.166667            362  1958.0    3.0\n",
            "112  1958.250000            348  1958.0    4.0\n",
            "113  1958.333333            363  1958.0    5.0\n",
            "114  1958.416667            435  1958.0    6.0\n",
            "115  1958.500000            491  1958.0    7.0\n",
            "116  1958.583333            505  1958.0    8.0\n",
            "117  1958.666667            404  1958.0    9.0\n",
            "118  1958.750000            359  1958.0   10.0\n",
            "119  1958.833333            310  1958.0   11.0\n",
            "120  1958.916667            337  1958.0   12.0\n",
            "121  1959.000000            360  1959.0    1.0\n",
            "122  1959.083333            342  1959.0    2.0\n",
            "123  1959.166667            406  1959.0    3.0\n",
            "124  1959.250000            396  1959.0    4.0\n",
            "125  1959.333333            420  1959.0    5.0\n",
            "126  1959.416667            472  1959.0    6.0\n",
            "127  1959.500000            548  1959.0    7.0\n",
            "128  1959.583333            559  1959.0    8.0\n",
            "129  1959.666667            463  1959.0    9.0\n",
            "130  1959.750000            407  1959.0   10.0\n",
            "131  1959.833333            362  1959.0   11.0\n",
            "132  1959.916667            405  1959.0   12.0\n",
            "133  1960.000000            417  1960.0    1.0\n",
            "134  1960.083333            391  1960.0    2.0\n",
            "135  1960.166667            419  1960.0    3.0\n",
            "136  1960.250000            461  1960.0    4.0\n",
            "137  1960.333333            472  1960.0    5.0\n",
            "138  1960.416667            535  1960.0    6.0\n",
            "139  1960.500000            622  1960.0    7.0\n",
            "140  1960.583333            606  1960.0    8.0\n",
            "141  1960.666667            508  1960.0    9.0\n",
            "142  1960.750000            461  1960.0   10.0\n",
            "143  1960.833333            390  1960.0   11.0\n",
            "144  1960.916667            432  1960.0   12.0\n"
          ]
        }
      ]
    },
    {
      "cell_type": "markdown",
      "metadata": {
        "id": "utfFu-ZEmWqC"
      },
      "source": [
        "## #3 Generate the plot below of passengers vs. time using each monthly count"
      ]
    },
    {
      "cell_type": "markdown",
      "metadata": {
        "id": "k1GXeWFrvRu3"
      },
      "source": [
        "<a href='https://drive.google.com/file/d/1PdaXbkCVzUXBnUP6c6cLP3nZ94ShSLg1/view?usp=embed_facebook&source=ctrlq.org'><img src='https://lh4.googleusercontent.com/7EHckqyjefS7rN8-gAtj2SgSyKfV3wlTnGKqCwzOf85F6NYlqYQbz7bDfWw=w2400' /></a>"
      ]
    },
    {
      "cell_type": "code",
      "metadata": {
        "colab": {
          "base_uri": "https://localhost:8080/",
          "height": 295
        },
        "id": "rBTg_cjYchXx",
        "outputId": "8a82a2e3-4c8a-45f6-aba5-31c4b195fe87"
      },
      "source": [
        "# TODO\n",
        "plt.plot(passengers['AirPassengers'])\n",
        "plt.title('Number of Airline Passengers 1949-1960')\n",
        "plt.xlabel('Month')\n",
        "plt.ylabel('Hundreds of Thousands')\n",
        "plt.show()"
      ],
      "execution_count": 8,
      "outputs": [
        {
          "output_type": "display_data",
          "data": {
            "image/png": "[encoded data removed]",
            "text/plain": [
              "<Figure size 432x288 with 1 Axes>"
            ]
          },
          "metadata": {
            "needs_background": "light"
          }
        }
      ]
    },
    {
      "cell_type": "markdown",
      "metadata": {
        "id": "TBN2gDr0mirA"
      },
      "source": [
        "## #4 Generate the plot below of passengers vs. time using an annual count"
      ]
    },
    {
      "cell_type": "markdown",
      "metadata": {
        "id": "ZbBkmkqGhXDM"
      },
      "source": [
        "<a href='https://drive.google.com/file/d/19WYHQR7sFgaeN5ZHlwx5x1-o-wxJ4weW/view?usp=sharing&amp;usp=embed_facebook&source=ctrlq.org'><img src='https://lh4.googleusercontent.com/2gbHNgm8UhbCEevaUBpMUSvVgk_6QuxMASqn9-wK1NdzrDXrcF-VIWK_o08=w2400' /></a>"
      ]
    },
    {
      "cell_type": "code",
      "metadata": {
        "colab": {
          "base_uri": "https://localhost:8080/",
          "height": 295
        },
        "id": "hm5yM1ZRchcP",
        "outputId": "076bf8bd-906e-4ed4-ad81-85a0fbca2113"
      },
      "source": [
        "# TODO\n",
        "passengers_year = passengers.groupby('Year').sum()[['AirPassengers']]\n",
        "plt.plot(passengers_year['AirPassengers'])\n",
        "plt.title('Number of Airline Passengers 1949-1960')\n",
        "plt.xlabel('Year')\n",
        "plt.ylabel('Hundreds of Thousands')\n",
        "\n",
        "plt.show()\n",
        "\n",
        "#temp=passengers.groupby(['Year'])['AirPassengers'].sum().reset_index()\n",
        "\n",
        "#plt.figure(figsize=(8,6))\n",
        "#plt.bar(temp['Year'],temp['AirPassengers'])\n",
        "#plt.xlabel(\"Year\", size=14)\n",
        "#plt.ylabel(\"Hundreds of thousands\", size=14)\n",
        "\n",
        "#plt.ylim([0, 6000])\n",
        "\n",
        "#plt.title(\"plot with Matplotlib\")\n"
      ],
      "execution_count": 12,
      "outputs": [
        {
          "output_type": "display_data",
          "data": {
            "image/png": "[encoded data removed]",
            "text/plain": [
              "<Figure size 432x288 with 1 Axes>"
            ]
          },
          "metadata": {
            "needs_background": "light"
          }
        }
      ]
    },
    {
      "cell_type": "markdown",
      "metadata": {
        "id": "UhgoE32QmvOT"
      },
      "source": [
        "## #5 Generate the barplot below of passengers by year"
      ]
    },
    {
      "cell_type": "markdown",
      "metadata": {
        "id": "Uzx6rfephZfH"
      },
      "source": [
        "<a href='https://drive.google.com/file/d/1-4NF40zvVhwi6RWagJu98BaBuDNOXaEd/view?usp=sharing&amp;usp=embed_facebook&source=ctrlq.org'><img src='https://lh6.googleusercontent.com/IQRk35KApDIxYtHGH3WoczLnCvHCRdMNlHw64rgLWPYUostOoAn2hxp8lZA=w2400' /></a>"
      ]
    },
    {
      "cell_type": "code",
      "metadata": {
        "colab": {
          "base_uri": "https://localhost:8080/",
          "height": 312
        },
        "id": "EiQRmMUrhqc_",
        "outputId": "08c578cd-b787-4751-86ff-9496a22d9a9f"
      },
      "source": [
        "# TODO\n",
        "plt.bar(passengers['Year'], passengers['AirPassengers'])\n",
        "plt.title('Number of Airline Passengers 1949-1960')\n",
        "plt.xlabel('Year')\n",
        "plt.ylabel('Hundreds of Thousands')"
      ],
      "execution_count": null,
      "outputs": [
        {
          "output_type": "execute_result",
          "data": {
            "text/plain": [
              "Text(0, 0.5, 'Hundreds of Thousands')"
            ]
          },
          "metadata": {},
          "execution_count": 29
        },
        {
          "output_type": "display_data",
          "data": {
            "image/png": "[encoded data removed]",
            "text/plain": [
              "<Figure size 432x288 with 1 Axes>"
            ]
          },
          "metadata": {
            "needs_background": "light"
          }
        }
      ]
    },
    {
      "cell_type": "markdown",
      "metadata": {
        "id": "E_nSuT-lm2eD"
      },
      "source": [
        "## #6 Generate the histogram below of monthly passengers\n",
        "\n",
        "**Additional requirements:**\n",
        "\n",
        "* Only include 1955 and beyond\n",
        "* Use a binwidth of 50, a min of 200, and a max of 700\n",
        "* Set the yticks to start at 0, end at 25 by interval of 5"
      ]
    },
    {
      "cell_type": "markdown",
      "metadata": {
        "id": "722_suwhjTn7"
      },
      "source": [
        "<a href='https://drive.google.com/file/d/1mEtvUbnh2LcDDc73LNr_qX984HzgyhiQ/view?usp=sharing&amp;usp=embed_facebook&source=ctrlq.org'><img src='https://lh6.googleusercontent.com/7I2FzRPSQPyoalFcwH3vTDeB9Gf80OUlaZOs1x9oRRYyQLlHXPU9H-NhSVQ=w2400' /></a>"
      ]
    },
    {
      "cell_type": "code",
      "metadata": {
        "colab": {
          "base_uri": "https://localhost:8080/",
          "height": 295
        },
        "id": "ftWwUO2xchgS",
        "outputId": "4476125b-ab1b-4175-cb52-0bfc0cf93254"
      },
      "source": [
        "# TODO\n",
        "passengers1 = passengers[passengers['Year']>=1955]\n",
        "\n",
        "plt.hist(passengers1['AirPassengers'], range=(200,700), rwidth=50)\n",
        "plt.title('Number of Airline Passengers 1955-1960')\n",
        "plt.xlabel('Hundreds of Thousands')\n",
        "plt.ylabel('Counts')\n",
        "plt.yticks(list(range(0,25,5)))\n",
        "plt.show()"
      ],
      "execution_count": 13,
      "outputs": [
        {
          "output_type": "display_data",
          "data": {
            "image/png": "[encoded data removed]",
            "text/plain": [
              "<Figure size 432x288 with 1 Axes>"
            ]
          },
          "metadata": {
            "needs_background": "light"
          }
        }
      ]
    },
    {
      "cell_type": "markdown",
      "metadata": {
        "id": "3hjNa7QanRw9"
      },
      "source": [
        "## #7 Generate the histogram below of monthly passengers\n",
        "\n",
        "**Additional requirements:**\n",
        "\n",
        "* Generate two groups to compare. Group 1 should be the years 1949-1950. Group 2 should be the years 1959-60.\n",
        "* Binwidth of 50 from 100 to 700\n",
        "* yticks from 0 to 24, spaced by 2\n",
        "* Be sure to include a legend"
      ]
    },
    {
      "cell_type": "markdown",
      "metadata": {
        "id": "ngsm2iZDjxOY"
      },
      "source": [
        "<a href='https://drive.google.com/file/d/1gqJbBVOPIurYikUIDpXoAF3gZx2p8lUA/view?usp=sharing&amp;usp=embed_facebook&source=ctrlq.org'><img src='https://lh3.googleusercontent.com/Ok91nFY8Srjn1FpVwOil9ycH9y6isZejTqi7hifqaEA5E3tWpkwldWVLo3U=w2400' /></a>"
      ]
    },
    {
      "cell_type": "code",
      "metadata": {
        "id": "rPa1CQzrchk7",
        "colab": {
          "base_uri": "https://localhost:8080/",
          "height": 295
        },
        "outputId": "9a1ffac8-64ba-4b99-e84b-f92d7c24664f"
      },
      "source": [
        "# TODO\n",
        "passengers4950 = passengers[passengers['Year']<=1950]\n",
        "passengers5960 = passengers[passengers['Year']>=1959]\n",
        "\n",
        "bin = np.arange(100,700,50)\n",
        "ytick = np.arange(0,24,2)\n",
        "\n",
        "plt.hist(passengers5960['AirPassengers'], bin, alpha = .5, color='orange', label='1959-60')\n",
        "plt.hist(passengers4950['AirPassengers'], bin, alpha = .5, label='1949-50')\n",
        "plt.legend(loc='upper right')\n",
        "plt.yticks(ytick)\n",
        "plt.title('Air Passenger Distributions, Beginning and End of Decade')\n",
        "plt.xlabel('Hundreds of Thousands')\n",
        "plt.ylabel('Count')\n",
        "plt.legend()\n",
        "plt.show()\n"
      ],
      "execution_count": 15,
      "outputs": [
        {
          "output_type": "display_data",
          "data": {
            "image/png": "[encoded data removed]",
            "text/plain": [
              "<Figure size 432x288 with 1 Axes>"
            ]
          },
          "metadata": {
            "needs_background": "light"
          }
        }
      ]
    },
    {
      "cell_type": "markdown",
      "metadata": {
        "id": "fpdrlfEhnijm"
      },
      "source": [
        "## #8 Generate the time plot below\n",
        "\n",
        "**Additional requirements:**\n",
        "\n",
        "* Compare 1950, 1955, and 1960 by month"
      ]
    },
    {
      "cell_type": "markdown",
      "metadata": {
        "id": "dUKGfwnWksbP"
      },
      "source": [
        "<a href='https://drive.google.com/file/d/11nVH5EiYxxtJ48isS9VLtwLIjn0hALXV/view?usp=sharing&amp;usp=embed_facebook&source=ctrlq.org'><img src='https://lh3.googleusercontent.com/SKfWqBE324A__VS8V-TBqMQXHWE9OUjVoJyeyJME8uJzyfWS73aaCms7A3c=w2400' /></a>"
      ]
    },
    {
      "cell_type": "code",
      "metadata": {
        "id": "lRzhSibJkCWZ",
        "colab": {
          "base_uri": "https://localhost:8080/",
          "height": 312
        },
        "outputId": "0e00e776-e280-4754-f91c-352082d6f288"
      },
      "source": [
        "# TODO\n",
        "passengers1950 = passengers[passengers['Year']==1950]\n",
        "passengers1955 = passengers[passengers['Year']==1955]\n",
        "passengers1960 = passengers[passengers['Year']==1960]\n",
        "\n",
        "\n",
        "plt.plot('Month', 'AirPassengers', data = passengers1950, label=str('1950'))\n",
        "plt.plot('Month', 'AirPassengers', data = passengers1955, color='orange', label=str('1955'))\n",
        "plt.plot('Month', 'AirPassengers', data = passengers1960, color='green', label=str('1960'))\n",
        "plt.xlabel('Month')\n",
        "plt.ylabel('Hundreds of Thousands')\n",
        "plt.title('Air Passengers by Month: Beginning, Mid, End of Decade')\n",
        "plt.legend()"
      ],
      "execution_count": null,
      "outputs": [
        {
          "output_type": "execute_result",
          "data": {
            "text/plain": [
              "<matplotlib.legend.Legend at 0x7fddfdc11510>"
            ]
          },
          "metadata": {},
          "execution_count": 45
        },
        {
          "output_type": "display_data",
          "data": {
            "image/png": "[encoded data removed]",
            "text/plain": [
              "<Figure size 432x288 with 1 Axes>"
            ]
          },
          "metadata": {
            "needs_background": "light"
          }
        }
      ]
    },
    {
      "cell_type": "markdown",
      "metadata": {
        "id": "m-Kq84DKpRdy"
      },
      "source": [
        "## #9  Understand your data and tell a story\n",
        "\n",
        "* Which of these plots would you create first to explore your data before building a model or performing an analysis? Why?\n",
        "* If you could only use one of these plots to tell a story about air travel trends mid-centry, which would you use and why? What are some insights you could share?\n"
      ]
    },
    {
      "cell_type": "code",
      "metadata": {
        "id": "3OEXegrnQhKp"
      },
      "source": [
        "# TODO"
      ],
      "execution_count": null,
      "outputs": []
    },
    {
      "cell_type": "markdown",
      "metadata": {
        "id": "vSEpLZ2TUEVZ"
      },
      "source": [
        "For this data set I would begin with the line graph in question 3.  Since we are dealing with time, we need to see how the data behaves over time.  The most probable analysis we would apply to this dataset would be a time series analysis, so it is important to examine seasonality and over-time trends in the data. \n",
        "\n",
        "To explain mid-century airtravel trends, I would use the line plot/graphs in number 8.  We can see the seasonality with an increased number of travelers in July/August, with a decrease in travel around the beginning and end of the year. Another great visual this graph provides to the reader is the commanding increase of traffic overall as time progresses.  We can truly see that Air Travel is gaining popularity during this time period, but the seasonality remains if not becoming more apparent."
      ]
    }
  ]
}
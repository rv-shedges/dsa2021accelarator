{
  "nbformat": 4,
  "nbformat_minor": 0,
  "metadata": {
    "kernelspec": {
      "display_name": "Python 3",
      "language": "python",
      "name": "python3"
    },
    "language_info": {
      "codemirror_mode": {
        "name": "ipython",
        "version": 3
      },
      "file_extension": ".py",
      "mimetype": "text/x-python",
      "name": "python",
      "nbconvert_exporter": "python",
      "pygments_lexer": "ipython3",
      "version": "3.8.5"
    },
    "colab": {
      "name": "Week3_PythonProgramming_Homework.ipynb",
      "provenance": []
    }
  },
  "cells": [
    {
      "cell_type": "markdown",
      "metadata": {
        "id": "ZCb6dNl0Iywd"
      },
      "source": [
        "# Week3 Python Programming"
      ]
    },
    {
      "cell_type": "markdown",
      "metadata": {
        "id": "P0cDoeK2Iywo"
      },
      "source": [
        "In week 3, we've covered:\n",
        "* **DataFrames**"
      ]
    },
    {
      "cell_type": "markdown",
      "metadata": {
        "id": "y69QP5yYIyw9"
      },
      "source": [
        "The best way to consolidate the knowledge in your mind is by practicing.<br>Please complete the part marked with <span style=\"color:green\">**# TODO**</span>.\n",
        "\n",
        "[Google](www.google.com) and [Python DataFrame Documentation](https://pandas.pydata.org/pandas-docs/stable/reference/api/pandas.DataFrame.html) are your good friends if you have any python questions.\n",
        "\n",
        "Upload **Week3_PythonProgramming_Homework.ipynb** notebook to your Google Drive and open it with Google Colab."
      ]
    },
    {
      "cell_type": "markdown",
      "metadata": {
        "id": "ojWrHyGjIyxQ"
      },
      "source": [
        "## 1. Load and explore your data"
      ]
    },
    {
      "cell_type": "markdown",
      "metadata": {
        "id": "eygM94Q5Iyxe"
      },
      "source": [
        "Import the necessary libraries."
      ]
    },
    {
      "cell_type": "code",
      "metadata": {
        "id": "AG8S5ypuIyxi"
      },
      "source": [
        "# TODO\n",
        "import pandas as pd  \n",
        "import matplotlib.pyplot as plt\n",
        "import seaborn as sns\n",
        "import statistics"
      ],
      "execution_count": 2,
      "outputs": []
    },
    {
      "cell_type": "markdown",
      "metadata": {
        "id": "VRCtjotCIyx0"
      },
      "source": [
        "Import the data set by using `url` and assign it to a variable called `wine`. Hint: need to set the `sep=';'`\n",
        "\n",
        "Check [Wine quality data description.](https://archive.ics.uci.edu/ml/datasets/Wine+Quality)"
      ]
    },
    {
      "cell_type": "code",
      "metadata": {
        "colab": {
          "base_uri": "https://localhost:8080/"
        },
        "id": "iJXJeoOlIyyL",
        "outputId": "7037e4da-36da-4ba8-dd32-14dc15c3140a"
      },
      "source": [
        "# TODO\n",
        "url = 'https://archive.ics.uci.edu/ml/machine-learning-databases/wine-quality/winequality-red.csv'\n",
        "wine = pd.read_csv(url, sep=';')\n",
        "print(wine.head())"
      ],
      "execution_count": 3,
      "outputs": [
        {
          "output_type": "stream",
          "text": [
            "   fixed acidity  volatile acidity  citric acid  ...  sulphates  alcohol  quality\n",
            "0            7.4              0.70         0.00  ...       0.56      9.4        5\n",
            "1            7.8              0.88         0.00  ...       0.68      9.8        5\n",
            "2            7.8              0.76         0.04  ...       0.65      9.8        5\n",
            "3           11.2              0.28         0.56  ...       0.58      9.8        6\n",
            "4            7.4              0.70         0.00  ...       0.56      9.4        5\n",
            "\n",
            "[5 rows x 12 columns]\n"
          ],
          "name": "stdout"
        }
      ]
    },
    {
      "cell_type": "markdown",
      "metadata": {
        "id": "SbcSc5tBIyyf"
      },
      "source": [
        "Show the first 10 entries of `wine`."
      ]
    },
    {
      "cell_type": "code",
      "metadata": {
        "colab": {
          "base_uri": "https://localhost:8080/"
        },
        "id": "TrduJnoMIyzF",
        "outputId": "0297fffe-5843-4467-b0c7-1db8c5e13484"
      },
      "source": [
        "# TODO\n",
        "print(wine.head(10)) #.head() function returns the \"head\" or first few rows of data"
      ],
      "execution_count": 4,
      "outputs": [
        {
          "output_type": "stream",
          "text": [
            "   fixed acidity  volatile acidity  citric acid  ...  sulphates  alcohol  quality\n",
            "0            7.4              0.70         0.00  ...       0.56      9.4        5\n",
            "1            7.8              0.88         0.00  ...       0.68      9.8        5\n",
            "2            7.8              0.76         0.04  ...       0.65      9.8        5\n",
            "3           11.2              0.28         0.56  ...       0.58      9.8        6\n",
            "4            7.4              0.70         0.00  ...       0.56      9.4        5\n",
            "5            7.4              0.66         0.00  ...       0.56      9.4        5\n",
            "6            7.9              0.60         0.06  ...       0.46      9.4        5\n",
            "7            7.3              0.65         0.00  ...       0.47     10.0        7\n",
            "8            7.8              0.58         0.02  ...       0.57      9.5        7\n",
            "9            7.5              0.50         0.36  ...       0.80     10.5        5\n",
            "\n",
            "[10 rows x 12 columns]\n"
          ],
          "name": "stdout"
        }
      ]
    },
    {
      "cell_type": "markdown",
      "metadata": {
        "id": "IeKbYibQIyzJ"
      },
      "source": [
        "Show the last 10 entries of `wine`."
      ]
    },
    {
      "cell_type": "code",
      "metadata": {
        "colab": {
          "base_uri": "https://localhost:8080/"
        },
        "id": "ZXcWkluIIyzK",
        "outputId": "1a8942a8-9afe-47eb-9166-69c1b495a671"
      },
      "source": [
        "# TODO\n",
        "print(wine.tail(10)) #.tail() function returns the \"tail\" or last few rows of the data\n"
      ],
      "execution_count": 5,
      "outputs": [
        {
          "output_type": "stream",
          "text": [
            "      fixed acidity  volatile acidity  citric acid  ...  sulphates  alcohol  quality\n",
            "1589            6.6             0.725         0.20  ...       0.54      9.2        5\n",
            "1590            6.3             0.550         0.15  ...       0.82     11.6        6\n",
            "1591            5.4             0.740         0.09  ...       0.56     11.6        6\n",
            "1592            6.3             0.510         0.13  ...       0.75     11.0        6\n",
            "1593            6.8             0.620         0.08  ...       0.82      9.5        6\n",
            "1594            6.2             0.600         0.08  ...       0.58     10.5        5\n",
            "1595            5.9             0.550         0.10  ...       0.76     11.2        6\n",
            "1596            6.3             0.510         0.13  ...       0.75     11.0        6\n",
            "1597            5.9             0.645         0.12  ...       0.71     10.2        5\n",
            "1598            6.0             0.310         0.47  ...       0.66     11.0        6\n",
            "\n",
            "[10 rows x 12 columns]\n"
          ],
          "name": "stdout"
        }
      ]
    },
    {
      "cell_type": "markdown",
      "metadata": {
        "id": "mS6SRGF0IyzT"
      },
      "source": [
        "What is the number of observations in the dataset?"
      ]
    },
    {
      "cell_type": "code",
      "metadata": {
        "colab": {
          "base_uri": "https://localhost:8080/"
        },
        "id": "AwbHi1WsIyzZ",
        "outputId": "7034c2f1-0dcc-4ff6-b0fa-7b10fe168c01"
      },
      "source": [
        "# TODO\n",
        "len(wine) #1599 observations\n"
      ],
      "execution_count": 6,
      "outputs": [
        {
          "output_type": "execute_result",
          "data": {
            "text/plain": [
              "1599"
            ]
          },
          "metadata": {},
          "execution_count": 6
        }
      ]
    },
    {
      "cell_type": "markdown",
      "metadata": {
        "id": "_lezLSxQIyze"
      },
      "source": [
        "What is the number of columns in the dataset?"
      ]
    },
    {
      "cell_type": "code",
      "metadata": {
        "colab": {
          "base_uri": "https://localhost:8080/"
        },
        "id": "d4PsFXrqIyzf",
        "outputId": "cada0e63-0dad-4651-fa9e-125a0ad116d4"
      },
      "source": [
        "# TODO\n",
        "len(wine.columns) #Returns the number of columns in the dataset\n"
      ],
      "execution_count": 7,
      "outputs": [
        {
          "output_type": "execute_result",
          "data": {
            "text/plain": [
              "12"
            ]
          },
          "metadata": {},
          "execution_count": 7
        }
      ]
    },
    {
      "cell_type": "markdown",
      "metadata": {
        "id": "y5ojTIRKIyzf"
      },
      "source": [
        "What is the data type of each column?"
      ]
    },
    {
      "cell_type": "code",
      "metadata": {
        "colab": {
          "base_uri": "https://localhost:8080/"
        },
        "id": "qVBQcucmIyzg",
        "outputId": "eda845cf-b4ff-4d1c-f4dd-f8ada4d28ee4"
      },
      "source": [
        "# TODO\n",
        "wine.info() #Will return all columns types, non-null value counts, columns names and locations\n"
      ],
      "execution_count": 8,
      "outputs": [
        {
          "output_type": "stream",
          "text": [
            "<class 'pandas.core.frame.DataFrame'>\n",
            "RangeIndex: 1599 entries, 0 to 1598\n",
            "Data columns (total 12 columns):\n",
            " #   Column                Non-Null Count  Dtype  \n",
            "---  ------                --------------  -----  \n",
            " 0   fixed acidity         1599 non-null   float64\n",
            " 1   volatile acidity      1599 non-null   float64\n",
            " 2   citric acid           1599 non-null   float64\n",
            " 3   residual sugar        1599 non-null   float64\n",
            " 4   chlorides             1599 non-null   float64\n",
            " 5   free sulfur dioxide   1599 non-null   float64\n",
            " 6   total sulfur dioxide  1599 non-null   float64\n",
            " 7   density               1599 non-null   float64\n",
            " 8   pH                    1599 non-null   float64\n",
            " 9   sulphates             1599 non-null   float64\n",
            " 10  alcohol               1599 non-null   float64\n",
            " 11  quality               1599 non-null   int64  \n",
            "dtypes: float64(11), int64(1)\n",
            "memory usage: 150.0 KB\n"
          ],
          "name": "stdout"
        }
      ]
    },
    {
      "cell_type": "markdown",
      "metadata": {
        "id": "ZtJZLQdVIyzj"
      },
      "source": [
        "Summarize statistics of all columns."
      ]
    },
    {
      "cell_type": "code",
      "metadata": {
        "colab": {
          "base_uri": "https://localhost:8080/",
          "height": 297
        },
        "id": "iZ7uMtzpIyzk",
        "outputId": "09dd0bde-512c-4b8f-9981-5d524e68a544"
      },
      "source": [
        "# TODO\n",
        "wine.describe() #The .describe() function will return a summary statistics of the columns"
      ],
      "execution_count": 9,
      "outputs": [
        {
          "output_type": "execute_result",
          "data": {
            "text/html": [
              "<div>\n",
              "<style scoped>\n",
              "    .dataframe tbody tr th:only-of-type {\n",
              "        vertical-align: middle;\n",
              "    }\n",
              "\n",
              "    .dataframe tbody tr th {\n",
              "        vertical-align: top;\n",
              "    }\n",
              "\n",
              "    .dataframe thead th {\n",
              "        text-align: right;\n",
              "    }\n",
              "</style>\n",
              "<table border=\"1\" class=\"dataframe\">\n",
              "  <thead>\n",
              "    <tr style=\"text-align: right;\">\n",
              "      <th></th>\n",
              "      <th>fixed acidity</th>\n",
              "      <th>volatile acidity</th>\n",
              "      <th>citric acid</th>\n",
              "      <th>residual sugar</th>\n",
              "      <th>chlorides</th>\n",
              "      <th>free sulfur dioxide</th>\n",
              "      <th>total sulfur dioxide</th>\n",
              "      <th>density</th>\n",
              "      <th>pH</th>\n",
              "      <th>sulphates</th>\n",
              "      <th>alcohol</th>\n",
              "      <th>quality</th>\n",
              "    </tr>\n",
              "  </thead>\n",
              "  <tbody>\n",
              "    <tr>\n",
              "      <th>count</th>\n",
              "      <td>1599.000000</td>\n",
              "      <td>1599.000000</td>\n",
              "      <td>1599.000000</td>\n",
              "      <td>1599.000000</td>\n",
              "      <td>1599.000000</td>\n",
              "      <td>1599.000000</td>\n",
              "      <td>1599.000000</td>\n",
              "      <td>1599.000000</td>\n",
              "      <td>1599.000000</td>\n",
              "      <td>1599.000000</td>\n",
              "      <td>1599.000000</td>\n",
              "      <td>1599.000000</td>\n",
              "    </tr>\n",
              "    <tr>\n",
              "      <th>mean</th>\n",
              "      <td>8.319637</td>\n",
              "      <td>0.527821</td>\n",
              "      <td>0.270976</td>\n",
              "      <td>2.538806</td>\n",
              "      <td>0.087467</td>\n",
              "      <td>15.874922</td>\n",
              "      <td>46.467792</td>\n",
              "      <td>0.996747</td>\n",
              "      <td>3.311113</td>\n",
              "      <td>0.658149</td>\n",
              "      <td>10.422983</td>\n",
              "      <td>5.636023</td>\n",
              "    </tr>\n",
              "    <tr>\n",
              "      <th>std</th>\n",
              "      <td>1.741096</td>\n",
              "      <td>0.179060</td>\n",
              "      <td>0.194801</td>\n",
              "      <td>1.409928</td>\n",
              "      <td>0.047065</td>\n",
              "      <td>10.460157</td>\n",
              "      <td>32.895324</td>\n",
              "      <td>0.001887</td>\n",
              "      <td>0.154386</td>\n",
              "      <td>0.169507</td>\n",
              "      <td>1.065668</td>\n",
              "      <td>0.807569</td>\n",
              "    </tr>\n",
              "    <tr>\n",
              "      <th>min</th>\n",
              "      <td>4.600000</td>\n",
              "      <td>0.120000</td>\n",
              "      <td>0.000000</td>\n",
              "      <td>0.900000</td>\n",
              "      <td>0.012000</td>\n",
              "      <td>1.000000</td>\n",
              "      <td>6.000000</td>\n",
              "      <td>0.990070</td>\n",
              "      <td>2.740000</td>\n",
              "      <td>0.330000</td>\n",
              "      <td>8.400000</td>\n",
              "      <td>3.000000</td>\n",
              "    </tr>\n",
              "    <tr>\n",
              "      <th>25%</th>\n",
              "      <td>7.100000</td>\n",
              "      <td>0.390000</td>\n",
              "      <td>0.090000</td>\n",
              "      <td>1.900000</td>\n",
              "      <td>0.070000</td>\n",
              "      <td>7.000000</td>\n",
              "      <td>22.000000</td>\n",
              "      <td>0.995600</td>\n",
              "      <td>3.210000</td>\n",
              "      <td>0.550000</td>\n",
              "      <td>9.500000</td>\n",
              "      <td>5.000000</td>\n",
              "    </tr>\n",
              "    <tr>\n",
              "      <th>50%</th>\n",
              "      <td>7.900000</td>\n",
              "      <td>0.520000</td>\n",
              "      <td>0.260000</td>\n",
              "      <td>2.200000</td>\n",
              "      <td>0.079000</td>\n",
              "      <td>14.000000</td>\n",
              "      <td>38.000000</td>\n",
              "      <td>0.996750</td>\n",
              "      <td>3.310000</td>\n",
              "      <td>0.620000</td>\n",
              "      <td>10.200000</td>\n",
              "      <td>6.000000</td>\n",
              "    </tr>\n",
              "    <tr>\n",
              "      <th>75%</th>\n",
              "      <td>9.200000</td>\n",
              "      <td>0.640000</td>\n",
              "      <td>0.420000</td>\n",
              "      <td>2.600000</td>\n",
              "      <td>0.090000</td>\n",
              "      <td>21.000000</td>\n",
              "      <td>62.000000</td>\n",
              "      <td>0.997835</td>\n",
              "      <td>3.400000</td>\n",
              "      <td>0.730000</td>\n",
              "      <td>11.100000</td>\n",
              "      <td>6.000000</td>\n",
              "    </tr>\n",
              "    <tr>\n",
              "      <th>max</th>\n",
              "      <td>15.900000</td>\n",
              "      <td>1.580000</td>\n",
              "      <td>1.000000</td>\n",
              "      <td>15.500000</td>\n",
              "      <td>0.611000</td>\n",
              "      <td>72.000000</td>\n",
              "      <td>289.000000</td>\n",
              "      <td>1.003690</td>\n",
              "      <td>4.010000</td>\n",
              "      <td>2.000000</td>\n",
              "      <td>14.900000</td>\n",
              "      <td>8.000000</td>\n",
              "    </tr>\n",
              "  </tbody>\n",
              "</table>\n",
              "</div>"
            ],
            "text/plain": [
              "       fixed acidity  volatile acidity  ...      alcohol      quality\n",
              "count    1599.000000       1599.000000  ...  1599.000000  1599.000000\n",
              "mean        8.319637          0.527821  ...    10.422983     5.636023\n",
              "std         1.741096          0.179060  ...     1.065668     0.807569\n",
              "min         4.600000          0.120000  ...     8.400000     3.000000\n",
              "25%         7.100000          0.390000  ...     9.500000     5.000000\n",
              "50%         7.900000          0.520000  ...    10.200000     6.000000\n",
              "75%         9.200000          0.640000  ...    11.100000     6.000000\n",
              "max        15.900000          1.580000  ...    14.900000     8.000000\n",
              "\n",
              "[8 rows x 12 columns]"
            ]
          },
          "metadata": {},
          "execution_count": 9
        }
      ]
    },
    {
      "cell_type": "markdown",
      "metadata": {
        "id": "2YyDC3X6Iyzl"
      },
      "source": [
        "Access the `quality` column."
      ]
    },
    {
      "cell_type": "code",
      "metadata": {
        "colab": {
          "base_uri": "https://localhost:8080/"
        },
        "id": "EtuoRwEPIyzn",
        "outputId": "748cf91d-a7a3-4bcc-b075-e10ee5e8a3d1"
      },
      "source": [
        "# TODO\n",
        "wine['quality']\n"
      ],
      "execution_count": 10,
      "outputs": [
        {
          "output_type": "execute_result",
          "data": {
            "text/plain": [
              "0       5\n",
              "1       5\n",
              "2       5\n",
              "3       6\n",
              "4       5\n",
              "       ..\n",
              "1594    5\n",
              "1595    6\n",
              "1596    6\n",
              "1597    5\n",
              "1598    6\n",
              "Name: quality, Length: 1599, dtype: int64"
            ]
          },
          "metadata": {},
          "execution_count": 10
        }
      ]
    },
    {
      "cell_type": "markdown",
      "metadata": {
        "id": "vIcLFpoAIyzr"
      },
      "source": [
        "How many unique `quality` values are there?"
      ]
    },
    {
      "cell_type": "code",
      "metadata": {
        "colab": {
          "base_uri": "https://localhost:8080/"
        },
        "id": "PCPDCjQ0Iyzt",
        "outputId": "3a76684f-f802-4505-fbf8-682902fa6003"
      },
      "source": [
        "# TODO\n",
        "len(wine['quality'].unique())"
      ],
      "execution_count": 11,
      "outputs": [
        {
          "output_type": "execute_result",
          "data": {
            "text/plain": [
              "6"
            ]
          },
          "metadata": {},
          "execution_count": 11
        }
      ]
    },
    {
      "cell_type": "markdown",
      "metadata": {
        "id": "xeDBw8_ZIyzu"
      },
      "source": [
        "Which `quality` value has the most samples? Hint: `value_counts()`"
      ]
    },
    {
      "cell_type": "code",
      "metadata": {
        "colab": {
          "base_uri": "https://localhost:8080/"
        },
        "id": "vQU_NXDsIyzu",
        "outputId": "02a63b5a-8bf0-4157-af31-4cccc25ba778"
      },
      "source": [
        "# TODO\n",
        "wine['quality'].value_counts() #5 has the most\n"
      ],
      "execution_count": 12,
      "outputs": [
        {
          "output_type": "execute_result",
          "data": {
            "text/plain": [
              "5    681\n",
              "6    638\n",
              "7    199\n",
              "4     53\n",
              "8     18\n",
              "3     10\n",
              "Name: quality, dtype: int64"
            ]
          },
          "metadata": {},
          "execution_count": 12
        }
      ]
    },
    {
      "cell_type": "markdown",
      "metadata": {
        "id": "Udu6_Yd2Iyzv"
      },
      "source": [
        "## 2. Rename and filter your data"
      ]
    },
    {
      "cell_type": "markdown",
      "metadata": {
        "id": "ChI4nxW4Iyzw"
      },
      "source": [
        "Replace the space in the column name with `_` and show the first 10 entries. For example,  `fixed acidity` would become `fixed_acidity`."
      ]
    },
    {
      "cell_type": "code",
      "metadata": {
        "colab": {
          "base_uri": "https://localhost:8080/",
          "height": 204
        },
        "id": "Y4A_7JAMIyzx",
        "outputId": "8f1b34d9-3671-4976-f3bf-c46375a4d724"
      },
      "source": [
        "# TODO\n",
        "columns = wine.columns \n",
        "new_columns = []\n",
        "for column in columns: \n",
        "    new_columns.append(column.replace(' ','_'))\n",
        "wine.columns = new_columns \n",
        "wine.head()"
      ],
      "execution_count": 13,
      "outputs": [
        {
          "output_type": "execute_result",
          "data": {
            "text/html": [
              "<div>\n",
              "<style scoped>\n",
              "    .dataframe tbody tr th:only-of-type {\n",
              "        vertical-align: middle;\n",
              "    }\n",
              "\n",
              "    .dataframe tbody tr th {\n",
              "        vertical-align: top;\n",
              "    }\n",
              "\n",
              "    .dataframe thead th {\n",
              "        text-align: right;\n",
              "    }\n",
              "</style>\n",
              "<table border=\"1\" class=\"dataframe\">\n",
              "  <thead>\n",
              "    <tr style=\"text-align: right;\">\n",
              "      <th></th>\n",
              "      <th>fixed_acidity</th>\n",
              "      <th>volatile_acidity</th>\n",
              "      <th>citric_acid</th>\n",
              "      <th>residual_sugar</th>\n",
              "      <th>chlorides</th>\n",
              "      <th>free_sulfur_dioxide</th>\n",
              "      <th>total_sulfur_dioxide</th>\n",
              "      <th>density</th>\n",
              "      <th>pH</th>\n",
              "      <th>sulphates</th>\n",
              "      <th>alcohol</th>\n",
              "      <th>quality</th>\n",
              "    </tr>\n",
              "  </thead>\n",
              "  <tbody>\n",
              "    <tr>\n",
              "      <th>0</th>\n",
              "      <td>7.4</td>\n",
              "      <td>0.70</td>\n",
              "      <td>0.00</td>\n",
              "      <td>1.9</td>\n",
              "      <td>0.076</td>\n",
              "      <td>11.0</td>\n",
              "      <td>34.0</td>\n",
              "      <td>0.9978</td>\n",
              "      <td>3.51</td>\n",
              "      <td>0.56</td>\n",
              "      <td>9.4</td>\n",
              "      <td>5</td>\n",
              "    </tr>\n",
              "    <tr>\n",
              "      <th>1</th>\n",
              "      <td>7.8</td>\n",
              "      <td>0.88</td>\n",
              "      <td>0.00</td>\n",
              "      <td>2.6</td>\n",
              "      <td>0.098</td>\n",
              "      <td>25.0</td>\n",
              "      <td>67.0</td>\n",
              "      <td>0.9968</td>\n",
              "      <td>3.20</td>\n",
              "      <td>0.68</td>\n",
              "      <td>9.8</td>\n",
              "      <td>5</td>\n",
              "    </tr>\n",
              "    <tr>\n",
              "      <th>2</th>\n",
              "      <td>7.8</td>\n",
              "      <td>0.76</td>\n",
              "      <td>0.04</td>\n",
              "      <td>2.3</td>\n",
              "      <td>0.092</td>\n",
              "      <td>15.0</td>\n",
              "      <td>54.0</td>\n",
              "      <td>0.9970</td>\n",
              "      <td>3.26</td>\n",
              "      <td>0.65</td>\n",
              "      <td>9.8</td>\n",
              "      <td>5</td>\n",
              "    </tr>\n",
              "    <tr>\n",
              "      <th>3</th>\n",
              "      <td>11.2</td>\n",
              "      <td>0.28</td>\n",
              "      <td>0.56</td>\n",
              "      <td>1.9</td>\n",
              "      <td>0.075</td>\n",
              "      <td>17.0</td>\n",
              "      <td>60.0</td>\n",
              "      <td>0.9980</td>\n",
              "      <td>3.16</td>\n",
              "      <td>0.58</td>\n",
              "      <td>9.8</td>\n",
              "      <td>6</td>\n",
              "    </tr>\n",
              "    <tr>\n",
              "      <th>4</th>\n",
              "      <td>7.4</td>\n",
              "      <td>0.70</td>\n",
              "      <td>0.00</td>\n",
              "      <td>1.9</td>\n",
              "      <td>0.076</td>\n",
              "      <td>11.0</td>\n",
              "      <td>34.0</td>\n",
              "      <td>0.9978</td>\n",
              "      <td>3.51</td>\n",
              "      <td>0.56</td>\n",
              "      <td>9.4</td>\n",
              "      <td>5</td>\n",
              "    </tr>\n",
              "  </tbody>\n",
              "</table>\n",
              "</div>"
            ],
            "text/plain": [
              "   fixed_acidity  volatile_acidity  citric_acid  ...  sulphates  alcohol  quality\n",
              "0            7.4              0.70         0.00  ...       0.56      9.4        5\n",
              "1            7.8              0.88         0.00  ...       0.68      9.8        5\n",
              "2            7.8              0.76         0.04  ...       0.65      9.8        5\n",
              "3           11.2              0.28         0.56  ...       0.58      9.8        6\n",
              "4            7.4              0.70         0.00  ...       0.56      9.4        5\n",
              "\n",
              "[5 rows x 12 columns]"
            ]
          },
          "metadata": {},
          "execution_count": 13
        }
      ]
    },
    {
      "cell_type": "markdown",
      "metadata": {
        "id": "v69AwB5AIyzy"
      },
      "source": [
        "Print a data frame with only two columns `residual_sugar` and `quality`."
      ]
    },
    {
      "cell_type": "code",
      "metadata": {
        "colab": {
          "base_uri": "https://localhost:8080/",
          "height": 419
        },
        "id": "mXrX_9wKIyzy",
        "outputId": "1ba65a10-76db-40a3-b716-a5a22a2d5fe3"
      },
      "source": [
        "# TODO\n",
        "wine[['quality' , 'residual_sugar']] # Since we want multiple columns we need the double []\n"
      ],
      "execution_count": 14,
      "outputs": [
        {
          "output_type": "execute_result",
          "data": {
            "text/html": [
              "<div>\n",
              "<style scoped>\n",
              "    .dataframe tbody tr th:only-of-type {\n",
              "        vertical-align: middle;\n",
              "    }\n",
              "\n",
              "    .dataframe tbody tr th {\n",
              "        vertical-align: top;\n",
              "    }\n",
              "\n",
              "    .dataframe thead th {\n",
              "        text-align: right;\n",
              "    }\n",
              "</style>\n",
              "<table border=\"1\" class=\"dataframe\">\n",
              "  <thead>\n",
              "    <tr style=\"text-align: right;\">\n",
              "      <th></th>\n",
              "      <th>quality</th>\n",
              "      <th>residual_sugar</th>\n",
              "    </tr>\n",
              "  </thead>\n",
              "  <tbody>\n",
              "    <tr>\n",
              "      <th>0</th>\n",
              "      <td>5</td>\n",
              "      <td>1.9</td>\n",
              "    </tr>\n",
              "    <tr>\n",
              "      <th>1</th>\n",
              "      <td>5</td>\n",
              "      <td>2.6</td>\n",
              "    </tr>\n",
              "    <tr>\n",
              "      <th>2</th>\n",
              "      <td>5</td>\n",
              "      <td>2.3</td>\n",
              "    </tr>\n",
              "    <tr>\n",
              "      <th>3</th>\n",
              "      <td>6</td>\n",
              "      <td>1.9</td>\n",
              "    </tr>\n",
              "    <tr>\n",
              "      <th>4</th>\n",
              "      <td>5</td>\n",
              "      <td>1.9</td>\n",
              "    </tr>\n",
              "    <tr>\n",
              "      <th>...</th>\n",
              "      <td>...</td>\n",
              "      <td>...</td>\n",
              "    </tr>\n",
              "    <tr>\n",
              "      <th>1594</th>\n",
              "      <td>5</td>\n",
              "      <td>2.0</td>\n",
              "    </tr>\n",
              "    <tr>\n",
              "      <th>1595</th>\n",
              "      <td>6</td>\n",
              "      <td>2.2</td>\n",
              "    </tr>\n",
              "    <tr>\n",
              "      <th>1596</th>\n",
              "      <td>6</td>\n",
              "      <td>2.3</td>\n",
              "    </tr>\n",
              "    <tr>\n",
              "      <th>1597</th>\n",
              "      <td>5</td>\n",
              "      <td>2.0</td>\n",
              "    </tr>\n",
              "    <tr>\n",
              "      <th>1598</th>\n",
              "      <td>6</td>\n",
              "      <td>3.6</td>\n",
              "    </tr>\n",
              "  </tbody>\n",
              "</table>\n",
              "<p>1599 rows × 2 columns</p>\n",
              "</div>"
            ],
            "text/plain": [
              "      quality  residual_sugar\n",
              "0           5             1.9\n",
              "1           5             2.6\n",
              "2           5             2.3\n",
              "3           6             1.9\n",
              "4           5             1.9\n",
              "...       ...             ...\n",
              "1594        5             2.0\n",
              "1595        6             2.2\n",
              "1596        6             2.3\n",
              "1597        5             2.0\n",
              "1598        6             3.6\n",
              "\n",
              "[1599 rows x 2 columns]"
            ]
          },
          "metadata": {},
          "execution_count": 14
        }
      ]
    },
    {
      "cell_type": "markdown",
      "metadata": {
        "id": "tF-qDGxZIyzz"
      },
      "source": [
        "Select only the observations with `residual_sugar` > 2 and `quality` < 8. "
      ]
    },
    {
      "cell_type": "code",
      "metadata": {
        "colab": {
          "base_uri": "https://localhost:8080/"
        },
        "id": "oU7VmwQ6Iyz2",
        "outputId": "392f2785-45ea-4f84-8fe5-f576b9be060e"
      },
      "source": [
        "# TODO\n",
        "wine_filtered = wine[(wine.residual_sugar > 2) & (wine.quality < 8)]\n",
        "print(wine_filtered)"
      ],
      "execution_count": 15,
      "outputs": [
        {
          "output_type": "stream",
          "text": [
            "      fixed_acidity  volatile_acidity  citric_acid  ...  sulphates  alcohol  quality\n",
            "1               7.8             0.880         0.00  ...       0.68      9.8        5\n",
            "2               7.8             0.760         0.04  ...       0.65      9.8        5\n",
            "9               7.5             0.500         0.36  ...       0.80     10.5        5\n",
            "11              7.5             0.500         0.36  ...       0.80     10.5        5\n",
            "14              8.9             0.620         0.18  ...       0.88      9.2        5\n",
            "...             ...               ...          ...  ...        ...      ...      ...\n",
            "1589            6.6             0.725         0.20  ...       0.54      9.2        5\n",
            "1592            6.3             0.510         0.13  ...       0.75     11.0        6\n",
            "1595            5.9             0.550         0.10  ...       0.76     11.2        6\n",
            "1596            6.3             0.510         0.13  ...       0.75     11.0        6\n",
            "1598            6.0             0.310         0.47  ...       0.66     11.0        6\n",
            "\n",
            "[970 rows x 12 columns]\n"
          ],
          "name": "stdout"
        }
      ]
    },
    {
      "cell_type": "markdown",
      "metadata": {
        "id": "jUyuJ5ktIyz4"
      },
      "source": [
        "Create a new column `residual_sugar_norm` so that:\n",
        "     \n",
        "\\begin{equation*}\n",
        "residual\\_sugar\\_norm_i =  \\frac{residual\\_sugar_i - min(residual\\_sugar)}{max(residual\\_sugar) - min(residual\\_sugar)}   \\textrm{, where i = 0, 1, 2, ..., observation index}\n",
        "\\end{equation*}\n",
        "\n",
        "(This technique is called \"min-max scaling\"; it scales the minimum to 0, the maximum to 1, and preserves all relative distances in between.)"
      ]
    },
    {
      "cell_type": "code",
      "metadata": {
        "colab": {
          "base_uri": "https://localhost:8080/"
        },
        "id": "ZxaQ0M5BIyz4",
        "outputId": "6d6cc467-d35d-4d9f-e724-d15f94a028c5"
      },
      "source": [
        "# TODO\n",
        "wine['residual_sugar_norm'] = (wine['residual_sugar'] - wine['residual_sugar'].min()/(wine['residual_sugar'].max() - wine['residual_sugar'].min()))\n",
        "print(wine.head())\n"
      ],
      "execution_count": 20,
      "outputs": [
        {
          "output_type": "stream",
          "text": [
            "   fixed_acidity  volatile_acidity  ...  residual_sugar_norm  quality_level\n",
            "0            7.4              0.70  ...             1.838356            Low\n",
            "1            7.8              0.88  ...             2.538356            Low\n",
            "2            7.8              0.76  ...             2.238356            Low\n",
            "3           11.2              0.28  ...             1.838356           High\n",
            "4            7.4              0.70  ...             1.838356            Low\n",
            "\n",
            "[5 rows x 14 columns]\n"
          ],
          "name": "stdout"
        }
      ]
    },
    {
      "cell_type": "markdown",
      "metadata": {
        "id": "dFUF8pgaIyz5"
      },
      "source": [
        "Drop the new column `residual_sugar_norm` inplace."
      ]
    },
    {
      "cell_type": "code",
      "metadata": {
        "colab": {
          "base_uri": "https://localhost:8080/",
          "height": 419
        },
        "id": "US7FBCD9Iyz5",
        "outputId": "085efbb4-7fd3-48a1-b588-9c004635a4b8"
      },
      "source": [
        "# TODO\n",
        "wine.drop('residual_sugar_norm' , 1)"
      ],
      "execution_count": 17,
      "outputs": [
        {
          "output_type": "execute_result",
          "data": {
            "text/html": [
              "<div>\n",
              "<style scoped>\n",
              "    .dataframe tbody tr th:only-of-type {\n",
              "        vertical-align: middle;\n",
              "    }\n",
              "\n",
              "    .dataframe tbody tr th {\n",
              "        vertical-align: top;\n",
              "    }\n",
              "\n",
              "    .dataframe thead th {\n",
              "        text-align: right;\n",
              "    }\n",
              "</style>\n",
              "<table border=\"1\" class=\"dataframe\">\n",
              "  <thead>\n",
              "    <tr style=\"text-align: right;\">\n",
              "      <th></th>\n",
              "      <th>fixed_acidity</th>\n",
              "      <th>volatile_acidity</th>\n",
              "      <th>citric_acid</th>\n",
              "      <th>residual_sugar</th>\n",
              "      <th>chlorides</th>\n",
              "      <th>free_sulfur_dioxide</th>\n",
              "      <th>total_sulfur_dioxide</th>\n",
              "      <th>density</th>\n",
              "      <th>pH</th>\n",
              "      <th>sulphates</th>\n",
              "      <th>alcohol</th>\n",
              "      <th>quality</th>\n",
              "    </tr>\n",
              "  </thead>\n",
              "  <tbody>\n",
              "    <tr>\n",
              "      <th>0</th>\n",
              "      <td>7.4</td>\n",
              "      <td>0.700</td>\n",
              "      <td>0.00</td>\n",
              "      <td>1.9</td>\n",
              "      <td>0.076</td>\n",
              "      <td>11.0</td>\n",
              "      <td>34.0</td>\n",
              "      <td>0.99780</td>\n",
              "      <td>3.51</td>\n",
              "      <td>0.56</td>\n",
              "      <td>9.4</td>\n",
              "      <td>5</td>\n",
              "    </tr>\n",
              "    <tr>\n",
              "      <th>1</th>\n",
              "      <td>7.8</td>\n",
              "      <td>0.880</td>\n",
              "      <td>0.00</td>\n",
              "      <td>2.6</td>\n",
              "      <td>0.098</td>\n",
              "      <td>25.0</td>\n",
              "      <td>67.0</td>\n",
              "      <td>0.99680</td>\n",
              "      <td>3.20</td>\n",
              "      <td>0.68</td>\n",
              "      <td>9.8</td>\n",
              "      <td>5</td>\n",
              "    </tr>\n",
              "    <tr>\n",
              "      <th>2</th>\n",
              "      <td>7.8</td>\n",
              "      <td>0.760</td>\n",
              "      <td>0.04</td>\n",
              "      <td>2.3</td>\n",
              "      <td>0.092</td>\n",
              "      <td>15.0</td>\n",
              "      <td>54.0</td>\n",
              "      <td>0.99700</td>\n",
              "      <td>3.26</td>\n",
              "      <td>0.65</td>\n",
              "      <td>9.8</td>\n",
              "      <td>5</td>\n",
              "    </tr>\n",
              "    <tr>\n",
              "      <th>3</th>\n",
              "      <td>11.2</td>\n",
              "      <td>0.280</td>\n",
              "      <td>0.56</td>\n",
              "      <td>1.9</td>\n",
              "      <td>0.075</td>\n",
              "      <td>17.0</td>\n",
              "      <td>60.0</td>\n",
              "      <td>0.99800</td>\n",
              "      <td>3.16</td>\n",
              "      <td>0.58</td>\n",
              "      <td>9.8</td>\n",
              "      <td>6</td>\n",
              "    </tr>\n",
              "    <tr>\n",
              "      <th>4</th>\n",
              "      <td>7.4</td>\n",
              "      <td>0.700</td>\n",
              "      <td>0.00</td>\n",
              "      <td>1.9</td>\n",
              "      <td>0.076</td>\n",
              "      <td>11.0</td>\n",
              "      <td>34.0</td>\n",
              "      <td>0.99780</td>\n",
              "      <td>3.51</td>\n",
              "      <td>0.56</td>\n",
              "      <td>9.4</td>\n",
              "      <td>5</td>\n",
              "    </tr>\n",
              "    <tr>\n",
              "      <th>...</th>\n",
              "      <td>...</td>\n",
              "      <td>...</td>\n",
              "      <td>...</td>\n",
              "      <td>...</td>\n",
              "      <td>...</td>\n",
              "      <td>...</td>\n",
              "      <td>...</td>\n",
              "      <td>...</td>\n",
              "      <td>...</td>\n",
              "      <td>...</td>\n",
              "      <td>...</td>\n",
              "      <td>...</td>\n",
              "    </tr>\n",
              "    <tr>\n",
              "      <th>1594</th>\n",
              "      <td>6.2</td>\n",
              "      <td>0.600</td>\n",
              "      <td>0.08</td>\n",
              "      <td>2.0</td>\n",
              "      <td>0.090</td>\n",
              "      <td>32.0</td>\n",
              "      <td>44.0</td>\n",
              "      <td>0.99490</td>\n",
              "      <td>3.45</td>\n",
              "      <td>0.58</td>\n",
              "      <td>10.5</td>\n",
              "      <td>5</td>\n",
              "    </tr>\n",
              "    <tr>\n",
              "      <th>1595</th>\n",
              "      <td>5.9</td>\n",
              "      <td>0.550</td>\n",
              "      <td>0.10</td>\n",
              "      <td>2.2</td>\n",
              "      <td>0.062</td>\n",
              "      <td>39.0</td>\n",
              "      <td>51.0</td>\n",
              "      <td>0.99512</td>\n",
              "      <td>3.52</td>\n",
              "      <td>0.76</td>\n",
              "      <td>11.2</td>\n",
              "      <td>6</td>\n",
              "    </tr>\n",
              "    <tr>\n",
              "      <th>1596</th>\n",
              "      <td>6.3</td>\n",
              "      <td>0.510</td>\n",
              "      <td>0.13</td>\n",
              "      <td>2.3</td>\n",
              "      <td>0.076</td>\n",
              "      <td>29.0</td>\n",
              "      <td>40.0</td>\n",
              "      <td>0.99574</td>\n",
              "      <td>3.42</td>\n",
              "      <td>0.75</td>\n",
              "      <td>11.0</td>\n",
              "      <td>6</td>\n",
              "    </tr>\n",
              "    <tr>\n",
              "      <th>1597</th>\n",
              "      <td>5.9</td>\n",
              "      <td>0.645</td>\n",
              "      <td>0.12</td>\n",
              "      <td>2.0</td>\n",
              "      <td>0.075</td>\n",
              "      <td>32.0</td>\n",
              "      <td>44.0</td>\n",
              "      <td>0.99547</td>\n",
              "      <td>3.57</td>\n",
              "      <td>0.71</td>\n",
              "      <td>10.2</td>\n",
              "      <td>5</td>\n",
              "    </tr>\n",
              "    <tr>\n",
              "      <th>1598</th>\n",
              "      <td>6.0</td>\n",
              "      <td>0.310</td>\n",
              "      <td>0.47</td>\n",
              "      <td>3.6</td>\n",
              "      <td>0.067</td>\n",
              "      <td>18.0</td>\n",
              "      <td>42.0</td>\n",
              "      <td>0.99549</td>\n",
              "      <td>3.39</td>\n",
              "      <td>0.66</td>\n",
              "      <td>11.0</td>\n",
              "      <td>6</td>\n",
              "    </tr>\n",
              "  </tbody>\n",
              "</table>\n",
              "<p>1599 rows × 12 columns</p>\n",
              "</div>"
            ],
            "text/plain": [
              "      fixed_acidity  volatile_acidity  citric_acid  ...  sulphates  alcohol  quality\n",
              "0               7.4             0.700         0.00  ...       0.56      9.4        5\n",
              "1               7.8             0.880         0.00  ...       0.68      9.8        5\n",
              "2               7.8             0.760         0.04  ...       0.65      9.8        5\n",
              "3              11.2             0.280         0.56  ...       0.58      9.8        6\n",
              "4               7.4             0.700         0.00  ...       0.56      9.4        5\n",
              "...             ...               ...          ...  ...        ...      ...      ...\n",
              "1594            6.2             0.600         0.08  ...       0.58     10.5        5\n",
              "1595            5.9             0.550         0.10  ...       0.76     11.2        6\n",
              "1596            6.3             0.510         0.13  ...       0.75     11.0        6\n",
              "1597            5.9             0.645         0.12  ...       0.71     10.2        5\n",
              "1598            6.0             0.310         0.47  ...       0.66     11.0        6\n",
              "\n",
              "[1599 rows x 12 columns]"
            ]
          },
          "metadata": {},
          "execution_count": 17
        }
      ]
    },
    {
      "cell_type": "markdown",
      "metadata": {
        "id": "-cIF4vgcIyz5"
      },
      "source": [
        "Create a new column `quality_level` so that the top half quality wines have value as `'high'` and the bottom half quality wine have value as `'low'`."
      ]
    },
    {
      "cell_type": "code",
      "metadata": {
        "colab": {
          "base_uri": "https://localhost:8080/"
        },
        "id": "fxsKyCNbIyz7",
        "outputId": "3e452d9a-62ba-42a6-b812-8277020bf094"
      },
      "source": [
        "# TODO\n",
        "#statistics.median(wine['quality']) this calculated the median value of the quality column in the wine dataset\n",
        "wine.loc[(wine.quality<6), 'quality_level'] = 'Low'\n",
        "wine.loc[(wine.quality>=6), 'quality_level'] = 'High'\n",
        "print(wine.head())\n",
        "\n",
        "## Try sorting to find exact value\n"
      ],
      "execution_count": 19,
      "outputs": [
        {
          "output_type": "stream",
          "text": [
            "   fixed_acidity  volatile_acidity  ...  residual_sugar_norm  quality_level\n",
            "0            7.4              0.70  ...             1.838356            Low\n",
            "1            7.8              0.88  ...             2.538356            Low\n",
            "2            7.8              0.76  ...             2.238356            Low\n",
            "3           11.2              0.28  ...             1.838356           High\n",
            "4            7.4              0.70  ...             1.838356            Low\n",
            "\n",
            "[5 rows x 14 columns]\n"
          ],
          "name": "stdout"
        }
      ]
    },
    {
      "cell_type": "markdown",
      "metadata": {
        "id": "1BgaYsq_Iyz8"
      },
      "source": [
        "## 3. Outlier Detection"
      ]
    },
    {
      "cell_type": "markdown",
      "metadata": {
        "id": "eeyAVwuIIyz8"
      },
      "source": [
        "Access the `sulphates` column"
      ]
    },
    {
      "cell_type": "code",
      "metadata": {
        "colab": {
          "base_uri": "https://localhost:8080/"
        },
        "id": "HooqF9X8Iyz-",
        "outputId": "5129e64f-57d3-4c01-97ad-e792cdeb1d9a"
      },
      "source": [
        "# TODO\n",
        "wine['sulphates']"
      ],
      "execution_count": 49,
      "outputs": [
        {
          "output_type": "execute_result",
          "data": {
            "text/plain": [
              "0       0.56\n",
              "1       0.68\n",
              "2       0.65\n",
              "3       0.58\n",
              "4       0.56\n",
              "        ... \n",
              "1594    0.58\n",
              "1595    0.76\n",
              "1596    0.75\n",
              "1597    0.71\n",
              "1598    0.66\n",
              "Name: sulphates, Length: 1599, dtype: float64"
            ]
          },
          "metadata": {},
          "execution_count": 49
        }
      ]
    },
    {
      "cell_type": "markdown",
      "metadata": {
        "id": "lT5x2m6AIyz-"
      },
      "source": [
        "Look at the histogram of `sulphates`. Can you see any potential outliers?"
      ]
    },
    {
      "cell_type": "code",
      "metadata": {
        "colab": {
          "base_uri": "https://localhost:8080/",
          "height": 265
        },
        "id": "Ev3Stf4PIyz-",
        "outputId": "58409bc6-cf6a-435c-e5c5-82ba03a26e04"
      },
      "source": [
        "from matplotlib import pyplot\n",
        "%matplotlib inline\n",
        "pyplot.hist(wine['sulphates'], bins= 50)\n",
        "pyplot.show()\n",
        "#Appears that we have a right skew"
      ],
      "execution_count": 52,
      "outputs": [
        {
          "output_type": "display_data",
          "data": {
            "image/png": "[encoded data removed]",
            "text/plain": [
              "<Figure size 432x288 with 1 Axes>"
            ]
          },
          "metadata": {
            "needs_background": "light"
          }
        }
      ]
    },
    {
      "cell_type": "markdown",
      "metadata": {
        "id": "K8JUH1UOIy0A"
      },
      "source": [
        "**TODO**\n",
        "\n",
        "Yes, looks like we have a right skew"
      ]
    },
    {
      "cell_type": "markdown",
      "metadata": {
        "id": "EjJUDbrjIy0B"
      },
      "source": [
        "What is the mean of `sulphates`? The standard deviation?"
      ]
    },
    {
      "cell_type": "code",
      "metadata": {
        "colab": {
          "base_uri": "https://localhost:8080/"
        },
        "id": "zxHFNVa6Iy0B",
        "outputId": "c3607ae0-8850-4029-d355-503c91bc8bad"
      },
      "source": [
        "# TODO\n",
        "wine['sulphates'].describe() #mean is .658149 and the std is .169507"
      ],
      "execution_count": 53,
      "outputs": [
        {
          "output_type": "execute_result",
          "data": {
            "text/plain": [
              "count    1599.000000\n",
              "mean        0.658149\n",
              "std         0.169507\n",
              "min         0.330000\n",
              "25%         0.550000\n",
              "50%         0.620000\n",
              "75%         0.730000\n",
              "max         2.000000\n",
              "Name: sulphates, dtype: float64"
            ]
          },
          "metadata": {},
          "execution_count": 53
        }
      ]
    },
    {
      "cell_type": "markdown",
      "metadata": {
        "id": "nlk2cBJ9Iy0C"
      },
      "source": [
        "One method of identifying outliers (for normally distributed data) is to find points outside three standard deviations from the mean. Using this definition, what are the upper and lower bounds of \"non-outlier\" values of `sulphates`?"
      ]
    },
    {
      "cell_type": "code",
      "metadata": {
        "id": "D5TI9FYXIy0D"
      },
      "source": [
        "# TODO\n",
        "upper_limit = .658149 + 3*.169507\n",
        "lower_limit = .658149 - 3*.169507"
      ],
      "execution_count": 57,
      "outputs": []
    },
    {
      "cell_type": "markdown",
      "metadata": {
        "id": "BRXBBjqTIy0D"
      },
      "source": [
        "How many points would be considered outliers?"
      ]
    },
    {
      "cell_type": "code",
      "metadata": {
        "colab": {
          "base_uri": "https://localhost:8080/",
          "height": 180
        },
        "id": "3LkYBe7JIy0E",
        "outputId": "e9bda816-f60c-4b05-a591-dc933d647e36"
      },
      "source": [
        "# TODO\n",
        "len(wine.query(int('sulphates') < int(lower_limit) or int('sulphates') > int(upper_limit)))"
      ],
      "execution_count": 21,
      "outputs": [
        {
          "output_type": "error",
          "ename": "ValueError",
          "evalue": "ignored",
          "traceback": [
            "\u001b[0;31m---------------------------------------------------------------------------\u001b[0m",
            "\u001b[0;31mValueError\u001b[0m                                Traceback (most recent call last)",
            "\u001b[0;32m<ipython-input-21-d037b0eadf29>\u001b[0m in \u001b[0;36m<module>\u001b[0;34m()\u001b[0m\n\u001b[1;32m      1\u001b[0m \u001b[0;31m# TODO\u001b[0m\u001b[0;34m\u001b[0m\u001b[0;34m\u001b[0m\u001b[0;34m\u001b[0m\u001b[0m\n\u001b[0;32m----> 2\u001b[0;31m \u001b[0mlen\u001b[0m\u001b[0;34m(\u001b[0m\u001b[0mwine\u001b[0m\u001b[0;34m.\u001b[0m\u001b[0mquery\u001b[0m\u001b[0;34m(\u001b[0m\u001b[0mint\u001b[0m\u001b[0;34m(\u001b[0m\u001b[0;34m'sulphates'\u001b[0m\u001b[0;34m)\u001b[0m \u001b[0;34m<\u001b[0m \u001b[0mint\u001b[0m\u001b[0;34m(\u001b[0m\u001b[0mlower_limit\u001b[0m\u001b[0;34m)\u001b[0m \u001b[0;32mor\u001b[0m \u001b[0mint\u001b[0m\u001b[0;34m(\u001b[0m\u001b[0;34m'sulphates'\u001b[0m\u001b[0;34m)\u001b[0m \u001b[0;34m>\u001b[0m \u001b[0mint\u001b[0m\u001b[0;34m(\u001b[0m\u001b[0mupper_limit\u001b[0m\u001b[0;34m)\u001b[0m\u001b[0;34m)\u001b[0m\u001b[0;34m)\u001b[0m\u001b[0;34m\u001b[0m\u001b[0;34m\u001b[0m\u001b[0m\n\u001b[0m",
            "\u001b[0;31mValueError\u001b[0m: invalid literal for int() with base 10: 'sulphates'"
          ]
        }
      ]
    },
    {
      "cell_type": "markdown",
      "metadata": {
        "id": "NfYoohrZIy0E"
      },
      "source": [
        "Create a new dataframe from wine called removed_outliers that removes the rows containing the `sulphates` outliers you just found."
      ]
    },
    {
      "cell_type": "code",
      "metadata": {
        "id": "K72VH8WFIy0E"
      },
      "source": [
        "# TODO"
      ],
      "execution_count": null,
      "outputs": []
    },
    {
      "cell_type": "markdown",
      "metadata": {
        "id": "m82w3JgfIy0F"
      },
      "source": [
        "Another way to spot outliers is with the dots on a boxplot. Does this method seem to agree with the previous method?"
      ]
    },
    {
      "cell_type": "code",
      "metadata": {
        "colab": {
          "base_uri": "https://localhost:8080/",
          "height": 265
        },
        "id": "IoURqDCyIy0F",
        "outputId": "61dd4927-82c5-4538-c829-14b633f1851c"
      },
      "source": [
        "pyplot.boxplot(wine['sulphates'])\n",
        "pyplot.show()"
      ],
      "execution_count": 64,
      "outputs": [
        {
          "output_type": "display_data",
          "data": {
            "image/png": "[encoded data removed]",
            "text/plain": [
              "<Figure size 432x288 with 1 Axes>"
            ]
          },
          "metadata": {
            "needs_background": "light"
          }
        }
      ]
    },
    {
      "cell_type": "markdown",
      "metadata": {
        "id": "NXS_OTgDIy0G"
      },
      "source": [
        "Why do you think we might we want to be careful before removing these outliers?"
      ]
    },
    {
      "cell_type": "markdown",
      "metadata": {
        "id": "l_VbZ-QpIy0G"
      },
      "source": [
        "**TODO**\n",
        "\n",
        "We would want to be careful in removing these outliers since there seems to be a cluster of data points that are greater than 100.  By removing these we could be removing meaningful data."
      ]
    },
    {
      "cell_type": "markdown",
      "metadata": {
        "id": "K-ok71RqIy0H"
      },
      "source": [
        "## 4. GroupBy"
      ]
    },
    {
      "cell_type": "markdown",
      "metadata": {
        "id": "kJtecfDqIy0H"
      },
      "source": [
        "Which `quality_level` are with higher `fixed_acidity` on average? Hint: use `groupby`"
      ]
    },
    {
      "cell_type": "code",
      "metadata": {
        "colab": {
          "base_uri": "https://localhost:8080/",
          "height": 180
        },
        "id": "2cQSB8kxIy0H",
        "outputId": "2e897b36-3eb5-48dc-d23b-6538d65bc1cb"
      },
      "source": [
        "# TODO\n",
        "wine.groupby(['quality_level'], by=['fixed_acidity'])\n"
      ],
      "execution_count": 33,
      "outputs": [
        {
          "output_type": "error",
          "ename": "TypeError",
          "evalue": "ignored",
          "traceback": [
            "\u001b[0;31m---------------------------------------------------------------------------\u001b[0m",
            "\u001b[0;31mTypeError\u001b[0m                                 Traceback (most recent call last)",
            "\u001b[0;32m<ipython-input-33-7d86df95d532>\u001b[0m in \u001b[0;36m<module>\u001b[0;34m()\u001b[0m\n\u001b[1;32m      1\u001b[0m \u001b[0;31m# TODO\u001b[0m\u001b[0;34m\u001b[0m\u001b[0;34m\u001b[0m\u001b[0;34m\u001b[0m\u001b[0m\n\u001b[0;32m----> 2\u001b[0;31m \u001b[0mwine\u001b[0m\u001b[0;34m.\u001b[0m\u001b[0mgroupby\u001b[0m\u001b[0;34m(\u001b[0m\u001b[0;34m[\u001b[0m\u001b[0;34m'quality_level'\u001b[0m\u001b[0;34m]\u001b[0m\u001b[0;34m,\u001b[0m \u001b[0mby\u001b[0m\u001b[0;34m=\u001b[0m\u001b[0;34m[\u001b[0m\u001b[0;34m'fixed_acidity'\u001b[0m\u001b[0;34m]\u001b[0m\u001b[0;34m)\u001b[0m\u001b[0;34m\u001b[0m\u001b[0;34m\u001b[0m\u001b[0m\n\u001b[0m",
            "\u001b[0;31mTypeError\u001b[0m: groupby() got multiple values for argument 'by'"
          ]
        }
      ]
    },
    {
      "cell_type": "markdown",
      "metadata": {
        "id": "IDbaW-JNIy0I"
      },
      "source": [
        "For each of the numerical features, plot a histogram of the feature values under different categories of `quality_level`. Can you use this to tell which feature is more likely to indicate the `quality_level` of wine?\n",
        "\n",
        "<i>Hint: Consider using seaborn's </i>`histplot()`<i>, with </i>`quality_level` <i>as the \"hue\" argument.</i>"
      ]
    },
    {
      "cell_type": "code",
      "metadata": {
        "colab": {
          "base_uri": "https://localhost:8080/",
          "height": 180
        },
        "id": "C5VpCDmAIy0I",
        "outputId": "f90f88e8-5fff-4a7c-cc8e-536634ea528c"
      },
      "source": [
        "# TODO\n",
        "sns.displot(data='')\n"
      ],
      "execution_count": 70,
      "outputs": [
        {
          "output_type": "error",
          "ename": "TypeError",
          "evalue": "ignored",
          "traceback": [
            "\u001b[0;31m---------------------------------------------------------------------------\u001b[0m",
            "\u001b[0;31mTypeError\u001b[0m                                 Traceback (most recent call last)",
            "\u001b[0;32m<ipython-input-70-00887f208a59>\u001b[0m in \u001b[0;36m<module>\u001b[0;34m()\u001b[0m\n\u001b[1;32m      1\u001b[0m \u001b[0;31m# TODO\u001b[0m\u001b[0;34m\u001b[0m\u001b[0;34m\u001b[0m\u001b[0;34m\u001b[0m\u001b[0m\n\u001b[0;32m----> 2\u001b[0;31m \u001b[0msns\u001b[0m\u001b[0;34m.\u001b[0m\u001b[0mdistplot\u001b[0m\u001b[0;34m(\u001b[0m\u001b[0mdata\u001b[0m\u001b[0;34m=\u001b[0m\u001b[0mwine\u001b[0m\u001b[0;34m,\u001b[0m \u001b[0mhue\u001b[0m\u001b[0;34m=\u001b[0m\u001b[0;34m'quality_level'\u001b[0m\u001b[0;34m)\u001b[0m\u001b[0;34m\u001b[0m\u001b[0;34m\u001b[0m\u001b[0m\n\u001b[0m",
            "\u001b[0;31mTypeError\u001b[0m: distplot() got an unexpected keyword argument 'data'"
          ]
        }
      ]
    },
    {
      "cell_type": "markdown",
      "metadata": {
        "id": "3hWeC5QSIy0I"
      },
      "source": [
        "**TODO**\n",
        "\n",
        "(write your text response here)"
      ]
    },
    {
      "cell_type": "markdown",
      "metadata": {
        "id": "t-BA3jpuIy0I"
      },
      "source": [
        "## 5. Handling missing data"
      ]
    },
    {
      "cell_type": "markdown",
      "metadata": {
        "id": "cK4-pzHWIy0I"
      },
      "source": [
        "Create a dataframe with `raw_data` and assign it to a variable called `df`."
      ]
    },
    {
      "cell_type": "code",
      "metadata": {
        "colab": {
          "base_uri": "https://localhost:8080/",
          "height": 235
        },
        "id": "USsRqORkIy0I",
        "outputId": "d5ec0ea6-6c86-4abf-e36b-9ddfcbc6198a"
      },
      "source": [
        "# TODO\n",
        "import numpy as np\n",
        "\n",
        "raw_data = {'first_name': ['Jason', np.nan, 'Tina', 'Jake', 'Amy', 'Ellen'], \n",
        "        'last_name': ['Miller', np.nan, 'Ali', 'Milner', 'Cooze', 'Smith'], \n",
        "        'age': [42, np.nan, 36, 24, 73, 55], \n",
        "        'sex': ['m', np.nan, 'f', 'm', 'f', 'f'], \n",
        "        'region': ['Northeast', np.nan, 'Midwest', 'South', 'Northeast', 'Midwest'],\n",
        "        'preTestScore': [4, np.nan, np.nan, 2, 3, np.nan],\n",
        "        'postTestScore': [25, np.nan, np.nan, 62, 70, 50]}\n",
        "df = pd.DataFrame.from_dict(raw_data)\n",
        "df\n"
      ],
      "execution_count": 39,
      "outputs": [
        {
          "output_type": "execute_result",
          "data": {
            "text/html": [
              "<div>\n",
              "<style scoped>\n",
              "    .dataframe tbody tr th:only-of-type {\n",
              "        vertical-align: middle;\n",
              "    }\n",
              "\n",
              "    .dataframe tbody tr th {\n",
              "        vertical-align: top;\n",
              "    }\n",
              "\n",
              "    .dataframe thead th {\n",
              "        text-align: right;\n",
              "    }\n",
              "</style>\n",
              "<table border=\"1\" class=\"dataframe\">\n",
              "  <thead>\n",
              "    <tr style=\"text-align: right;\">\n",
              "      <th></th>\n",
              "      <th>first_name</th>\n",
              "      <th>last_name</th>\n",
              "      <th>age</th>\n",
              "      <th>sex</th>\n",
              "      <th>region</th>\n",
              "      <th>preTestScore</th>\n",
              "      <th>postTestScore</th>\n",
              "    </tr>\n",
              "  </thead>\n",
              "  <tbody>\n",
              "    <tr>\n",
              "      <th>0</th>\n",
              "      <td>Jason</td>\n",
              "      <td>Miller</td>\n",
              "      <td>42.0</td>\n",
              "      <td>m</td>\n",
              "      <td>Northeast</td>\n",
              "      <td>4.0</td>\n",
              "      <td>25.0</td>\n",
              "    </tr>\n",
              "    <tr>\n",
              "      <th>1</th>\n",
              "      <td>NaN</td>\n",
              "      <td>NaN</td>\n",
              "      <td>NaN</td>\n",
              "      <td>NaN</td>\n",
              "      <td>NaN</td>\n",
              "      <td>NaN</td>\n",
              "      <td>NaN</td>\n",
              "    </tr>\n",
              "    <tr>\n",
              "      <th>2</th>\n",
              "      <td>Tina</td>\n",
              "      <td>Ali</td>\n",
              "      <td>36.0</td>\n",
              "      <td>f</td>\n",
              "      <td>Midwest</td>\n",
              "      <td>NaN</td>\n",
              "      <td>NaN</td>\n",
              "    </tr>\n",
              "    <tr>\n",
              "      <th>3</th>\n",
              "      <td>Jake</td>\n",
              "      <td>Milner</td>\n",
              "      <td>24.0</td>\n",
              "      <td>m</td>\n",
              "      <td>South</td>\n",
              "      <td>2.0</td>\n",
              "      <td>62.0</td>\n",
              "    </tr>\n",
              "    <tr>\n",
              "      <th>4</th>\n",
              "      <td>Amy</td>\n",
              "      <td>Cooze</td>\n",
              "      <td>73.0</td>\n",
              "      <td>f</td>\n",
              "      <td>Northeast</td>\n",
              "      <td>3.0</td>\n",
              "      <td>70.0</td>\n",
              "    </tr>\n",
              "    <tr>\n",
              "      <th>5</th>\n",
              "      <td>Ellen</td>\n",
              "      <td>Smith</td>\n",
              "      <td>55.0</td>\n",
              "      <td>f</td>\n",
              "      <td>Midwest</td>\n",
              "      <td>NaN</td>\n",
              "      <td>50.0</td>\n",
              "    </tr>\n",
              "  </tbody>\n",
              "</table>\n",
              "</div>"
            ],
            "text/plain": [
              "  first_name last_name   age  sex     region  preTestScore  postTestScore\n",
              "0      Jason    Miller  42.0    m  Northeast           4.0           25.0\n",
              "1        NaN       NaN   NaN  NaN        NaN           NaN            NaN\n",
              "2       Tina       Ali  36.0    f    Midwest           NaN            NaN\n",
              "3       Jake    Milner  24.0    m      South           2.0           62.0\n",
              "4        Amy     Cooze  73.0    f  Northeast           3.0           70.0\n",
              "5      Ellen     Smith  55.0    f    Midwest           NaN           50.0"
            ]
          },
          "metadata": {},
          "execution_count": 39
        }
      ]
    },
    {
      "cell_type": "markdown",
      "metadata": {
        "id": "gSPGUupaIy0J"
      },
      "source": [
        "Drop observations with missing values and assign it to a variable called `df_clean`."
      ]
    },
    {
      "cell_type": "code",
      "metadata": {
        "colab": {
          "base_uri": "https://localhost:8080/",
          "height": 142
        },
        "id": "5YD7y1bEIy0J",
        "outputId": "1b75826a-724d-438d-da48-f3431361998c"
      },
      "source": [
        "# TODO\n",
        "df_clean = df.dropna()\n",
        "df_clean"
      ],
      "execution_count": 40,
      "outputs": [
        {
          "output_type": "execute_result",
          "data": {
            "text/html": [
              "<div>\n",
              "<style scoped>\n",
              "    .dataframe tbody tr th:only-of-type {\n",
              "        vertical-align: middle;\n",
              "    }\n",
              "\n",
              "    .dataframe tbody tr th {\n",
              "        vertical-align: top;\n",
              "    }\n",
              "\n",
              "    .dataframe thead th {\n",
              "        text-align: right;\n",
              "    }\n",
              "</style>\n",
              "<table border=\"1\" class=\"dataframe\">\n",
              "  <thead>\n",
              "    <tr style=\"text-align: right;\">\n",
              "      <th></th>\n",
              "      <th>first_name</th>\n",
              "      <th>last_name</th>\n",
              "      <th>age</th>\n",
              "      <th>sex</th>\n",
              "      <th>region</th>\n",
              "      <th>preTestScore</th>\n",
              "      <th>postTestScore</th>\n",
              "    </tr>\n",
              "  </thead>\n",
              "  <tbody>\n",
              "    <tr>\n",
              "      <th>0</th>\n",
              "      <td>Jason</td>\n",
              "      <td>Miller</td>\n",
              "      <td>42.0</td>\n",
              "      <td>m</td>\n",
              "      <td>Northeast</td>\n",
              "      <td>4.0</td>\n",
              "      <td>25.0</td>\n",
              "    </tr>\n",
              "    <tr>\n",
              "      <th>3</th>\n",
              "      <td>Jake</td>\n",
              "      <td>Milner</td>\n",
              "      <td>24.0</td>\n",
              "      <td>m</td>\n",
              "      <td>South</td>\n",
              "      <td>2.0</td>\n",
              "      <td>62.0</td>\n",
              "    </tr>\n",
              "    <tr>\n",
              "      <th>4</th>\n",
              "      <td>Amy</td>\n",
              "      <td>Cooze</td>\n",
              "      <td>73.0</td>\n",
              "      <td>f</td>\n",
              "      <td>Northeast</td>\n",
              "      <td>3.0</td>\n",
              "      <td>70.0</td>\n",
              "    </tr>\n",
              "  </tbody>\n",
              "</table>\n",
              "</div>"
            ],
            "text/plain": [
              "  first_name last_name   age sex     region  preTestScore  postTestScore\n",
              "0      Jason    Miller  42.0   m  Northeast           4.0           25.0\n",
              "3       Jake    Milner  24.0   m      South           2.0           62.0\n",
              "4        Amy     Cooze  73.0   f  Northeast           3.0           70.0"
            ]
          },
          "metadata": {},
          "execution_count": 40
        }
      ]
    },
    {
      "cell_type": "markdown",
      "metadata": {
        "id": "i90kiihWIy0J"
      },
      "source": [
        "For each column in `df`, show what percentage of its values are null. Try to avoid having repeated blocks of code for each column.\n",
        "\n",
        "(Regarding the second line, the goal is to get you thinking like a Pandas programmer. In practice you may have hundreds of variables in your dataframe, and hard coded statements using each column name will not scale.)\n",
        "\n",
        "<i>Hint: Using </i>`df.isna()`<i> might be helpful here. How can you get column-wise percentages from the output of this?</i>"
      ]
    },
    {
      "cell_type": "code",
      "metadata": {
        "colab": {
          "base_uri": "https://localhost:8080/",
          "height": 333
        },
        "id": "tOWnxUkiIy0J",
        "outputId": "5d29f274-2845-45c7-eced-64996bfa0dbe"
      },
      "source": [
        "# TODO\n",
        "nul_values = df.isnull() \n",
        "\n",
        "print(nul_values.columns/len(df.columns))\n",
        "\n"
      ],
      "execution_count": 41,
      "outputs": [
        {
          "output_type": "error",
          "ename": "TypeError",
          "evalue": "ignored",
          "traceback": [
            "\u001b[0;31m---------------------------------------------------------------------------\u001b[0m",
            "\u001b[0;31mTypeError\u001b[0m                                 Traceback (most recent call last)",
            "\u001b[0;32m<ipython-input-41-d52ec91eff73>\u001b[0m in \u001b[0;36m<module>\u001b[0;34m()\u001b[0m\n\u001b[1;32m      2\u001b[0m \u001b[0mnul_values\u001b[0m \u001b[0;34m=\u001b[0m \u001b[0mdf\u001b[0m\u001b[0;34m.\u001b[0m\u001b[0misnull\u001b[0m\u001b[0;34m(\u001b[0m\u001b[0;34m)\u001b[0m\u001b[0;34m\u001b[0m\u001b[0;34m\u001b[0m\u001b[0m\n\u001b[1;32m      3\u001b[0m \u001b[0;34m\u001b[0m\u001b[0m\n\u001b[0;32m----> 4\u001b[0;31m \u001b[0mprint\u001b[0m\u001b[0;34m(\u001b[0m\u001b[0mnul_values\u001b[0m\u001b[0;34m.\u001b[0m\u001b[0mcolumns\u001b[0m\u001b[0;34m/\u001b[0m\u001b[0mlen\u001b[0m\u001b[0;34m(\u001b[0m\u001b[0mdf\u001b[0m\u001b[0;34m.\u001b[0m\u001b[0mcolumns\u001b[0m\u001b[0;34m)\u001b[0m\u001b[0;34m)\u001b[0m\u001b[0;34m\u001b[0m\u001b[0;34m\u001b[0m\u001b[0m\n\u001b[0m\u001b[1;32m      5\u001b[0m \u001b[0;34m\u001b[0m\u001b[0m\n",
            "\u001b[0;32m/usr/local/lib/python3.7/dist-packages/pandas/core/ops/invalid.py\u001b[0m in \u001b[0;36minvalid_op\u001b[0;34m(self, other)\u001b[0m\n\u001b[1;32m     51\u001b[0m     \u001b[0;32mdef\u001b[0m \u001b[0minvalid_op\u001b[0m\u001b[0;34m(\u001b[0m\u001b[0mself\u001b[0m\u001b[0;34m,\u001b[0m \u001b[0mother\u001b[0m\u001b[0;34m=\u001b[0m\u001b[0;32mNone\u001b[0m\u001b[0;34m)\u001b[0m\u001b[0;34m:\u001b[0m\u001b[0;34m\u001b[0m\u001b[0;34m\u001b[0m\u001b[0m\n\u001b[1;32m     52\u001b[0m         \u001b[0mtyp\u001b[0m \u001b[0;34m=\u001b[0m \u001b[0mtype\u001b[0m\u001b[0;34m(\u001b[0m\u001b[0mself\u001b[0m\u001b[0;34m)\u001b[0m\u001b[0;34m.\u001b[0m\u001b[0m__name__\u001b[0m\u001b[0;34m\u001b[0m\u001b[0;34m\u001b[0m\u001b[0m\n\u001b[0;32m---> 53\u001b[0;31m         \u001b[0;32mraise\u001b[0m \u001b[0mTypeError\u001b[0m\u001b[0;34m(\u001b[0m\u001b[0;34mf\"cannot perform {name} with this index type: {typ}\"\u001b[0m\u001b[0;34m)\u001b[0m\u001b[0;34m\u001b[0m\u001b[0;34m\u001b[0m\u001b[0m\n\u001b[0m\u001b[1;32m     54\u001b[0m \u001b[0;34m\u001b[0m\u001b[0m\n\u001b[1;32m     55\u001b[0m     \u001b[0minvalid_op\u001b[0m\u001b[0;34m.\u001b[0m\u001b[0m__name__\u001b[0m \u001b[0;34m=\u001b[0m \u001b[0mname\u001b[0m\u001b[0;34m\u001b[0m\u001b[0;34m\u001b[0m\u001b[0m\n",
            "\u001b[0;31mTypeError\u001b[0m: cannot perform __truediv__ with this index type: Index"
          ]
        }
      ]
    },
    {
      "cell_type": "markdown",
      "metadata": {
        "id": "fzywrg4vIy0J"
      },
      "source": [
        "Use your result from above to drop columns from `df` with 40% or more of its values null, and store the result in a dataframe called `temp`."
      ]
    },
    {
      "cell_type": "code",
      "metadata": {
        "id": "tP3UJRiDIy0J"
      },
      "source": [
        "# TODO\n",
        "i=len(df.columns)-1\n",
        "temp"
      ],
      "execution_count": null,
      "outputs": []
    },
    {
      "cell_type": "markdown",
      "metadata": {
        "id": "gCIs3a1ZIy0J"
      },
      "source": [
        "Fill all missing values in `df` with zeros."
      ]
    },
    {
      "cell_type": "code",
      "metadata": {
        "id": "N0HSFNB5Iy0J"
      },
      "source": [
        "# TODO\n"
      ],
      "execution_count": null,
      "outputs": []
    },
    {
      "cell_type": "markdown",
      "metadata": {
        "id": "YpROmSd0Iy0J"
      },
      "source": [
        "Use `groupby` on `df` to find the average post test score by region. How did `groupby` handle the missing values? If you were trying to find the averages by region, would you choose this method over filling missing values with 0 first?"
      ]
    },
    {
      "cell_type": "code",
      "metadata": {
        "id": "98D6hxlwIy0K"
      },
      "source": [
        "# TODO"
      ],
      "execution_count": null,
      "outputs": []
    },
    {
      "cell_type": "markdown",
      "metadata": {
        "id": "IJAJIXHcIy0K"
      },
      "source": [
        "**TODO**\n",
        "\n",
        "(write your text response here)"
      ]
    },
    {
      "cell_type": "markdown",
      "metadata": {
        "id": "SWT4hqkrIy0L"
      },
      "source": [
        "## Submission\n",
        "\n",
        "Download completed **Week3_PythonProgramming_Homework.ipynb** from Google Colab and commit to your personal Github repo you shared with the faculty."
      ]
    }
  ]
}